{
 "cells": [
  {
   "cell_type": "markdown",
   "metadata": {},
   "source": [
    "# Self-Driving Car Engineer Nanodegree\n",
    "\n",
    "## Deep Learning\n",
    "\n",
    "## Project: Build a Traffic Sign Recognition Classifier\n",
    "\n",
    "In this notebook, a template is provided for you to implement your functionality in stages which is required to successfully complete this project. If additional code is required that cannot be included in the notebook, be sure that the Python code is successfully imported and included in your submission, if necessary. Sections that begin with **'Implementation'** in the header indicate where you should begin your implementation for your project. Note that some sections of implementation are optional, and will be marked with **'Optional'** in the header.\n",
    "\n",
    "In addition to implementing code, there will be questions that you must answer which relate to the project and your implementation. Each section where you will answer a question is preceded by a **'Question'** header. Carefully read each question and provide thorough answers in the following text boxes that begin with **'Answer:'**. Your project submission will be evaluated based on your answers to each of the questions and the implementation you provide.\n",
    "\n",
    ">**Note:** Code and Markdown cells can be executed using the **Shift + Enter** keyboard shortcut. In addition, Markdown cells can be edited by typically double-clicking the cell to enter edit mode."
   ]
  },
  {
   "cell_type": "markdown",
   "metadata": {},
   "source": [
    "---\n",
    "## Step 0: Load The Data"
   ]
  },
  {
   "cell_type": "code",
   "execution_count": null,
   "metadata": {
    "collapsed": false
   },
   "outputs": [],
   "source": [
    "# Load pickled data\n",
    "import pickle\n",
    "import numpy as np\n",
    "\n",
    "# TODO: Fill this in based on where you saved the training and testing data\n",
    "\n",
    "training_file = \"train_equal.p\"\n",
    "testing_file = \"test_final_gray.p\"\n",
    "validation_file = \"validation_gray_contrast.p\"\n",
    "\n",
    "with open(training_file, mode='rb') as f:\n",
    "    train = pickle.load(f)\n",
    "# with open(testing_file, mode='rb') as f:\n",
    "#     test = pickle.load(f)\n",
    "with open(validation_file, mode='rb') as f:\n",
    "    validation = pickle.load(f)\n",
    "    \n",
    "X_train_old, y_train = train['features'], train['labels']\n",
    "# X_test, y_test = test['features'], test['labels']\n",
    "X_validation_old, y_validation = validation['features'], validation['labels']\n"
   ]
  },
  {
   "cell_type": "code",
   "execution_count": null,
   "metadata": {
    "collapsed": false
   },
   "outputs": [],
   "source": [
    "np.shape(X_train_old)"
   ]
  },
  {
   "cell_type": "code",
   "execution_count": null,
   "metadata": {
    "collapsed": false
   },
   "outputs": [],
   "source": [
    "from sklearn.preprocessing import normalize\n",
    "\n",
    "\n",
    "X_new = X_train_old#.astype(float)\n",
    "X_new = X_new.astype(float)\n",
    "m = np.mean(X_train_old)\n",
    "st = np.std(X_train_old)\n",
    "X_new-=m\n",
    "X_train = X_new /st\n",
    "\n",
    "X_val = X_validation_old#.astype(float)\n",
    "X_val = X_val.astype(float)\n",
    "X_val-=m\n",
    "X_validation = X_val /st\n",
    "\n",
    "# X_test = X_test#.astype(float)\n",
    "# X_test = X_test.astype(float)\n",
    "# X_test-=128.0\n",
    "# X_test = X_test /255.0\n",
    "\n",
    "#print(X_train_new[0][0][0])\n",
    "#print(type(X_train_new))\n",
    "#print(X_train[0].astype(np.float32))"
   ]
  },
  {
   "cell_type": "code",
   "execution_count": null,
   "metadata": {
    "collapsed": false
   },
   "outputs": [],
   "source": [
    "(203.-128.0)/128"
   ]
  },
  {
   "cell_type": "markdown",
   "metadata": {},
   "source": [
    "---\n",
    "\n",
    "## Step 1: Dataset Summary & Exploration\n",
    "\n",
    "The pickled data is a dictionary with 4 key/value pairs:\n",
    "\n",
    "- `'features'` is a 4D array containing raw pixel data of the traffic sign images, (num examples, width, height, channels).\n",
    "- `'labels'` is a 2D array containing the label/class id of the traffic sign. The file `signnames.csv` contains id -> name mappings for each id.\n",
    "- `'sizes'` is a list containing tuples, (width, height) representing the the original width and height the image.\n",
    "- `'coords'` is a list containing tuples, (x1, y1, x2, y2) representing coordinates of a bounding box around the sign in the image. **THESE COORDINATES ASSUME THE ORIGINAL IMAGE. THE PICKLED DATA CONTAINS RESIZED VERSIONS (32 by 32) OF THESE IMAGES**\n",
    "\n",
    "Complete the basic data summary below."
   ]
  },
  {
   "cell_type": "code",
   "execution_count": null,
   "metadata": {
    "collapsed": false
   },
   "outputs": [],
   "source": [
    "### Replace each question mark with the appropriate value.\n",
    "import numpy as np\n",
    "\n",
    "# TODO: Number of training examples\n",
    "n_train = len(X_train)\n",
    "\n",
    "# TODO: Number of testing examples.\n",
    "n_test = len(X_val)\n",
    "\n",
    "# TODO: What's the shape of an traffic sign image?\n",
    "image_shape = np.shape(X_train[0])\n",
    "\n",
    "# TODO: How many unique classes/labels there are in the dataset.\n",
    "n_classes = len(set(y_train))\n",
    "\n",
    "print(\"Number of training examples =\", n_train)\n",
    "print(\"Number of testing examples =\", n_test)\n",
    "print(\"Image data shape =\", image_shape)\n",
    "print(\"Number of classes =\", n_classes)"
   ]
  },
  {
   "cell_type": "markdown",
   "metadata": {},
   "source": [
    "Visualize the German Traffic Signs Dataset using the pickled file(s). This is open ended, suggestions include: plotting traffic sign images, plotting the count of each sign, etc.\n",
    "\n",
    "The [Matplotlib](http://matplotlib.org/) [examples](http://matplotlib.org/examples/index.html) and [gallery](http://matplotlib.org/gallery.html) pages are a great resource for doing visualizations in Python.\n",
    "\n",
    "**NOTE:** It's recommended you start with something simple first. If you wish to do more, come back to it after you've completed the rest of the sections."
   ]
  },
  {
   "cell_type": "code",
   "execution_count": null,
   "metadata": {
    "collapsed": false
   },
   "outputs": [],
   "source": [
    "### Data exploration visualization goes here.\n",
    "### Feel free to use as many code cells as needed.\n",
    "import matplotlib.pyplot as plt\n",
    "# Visualizations will be shown in the notebook.\n",
    "%matplotlib inline"
   ]
  },
  {
   "cell_type": "markdown",
   "metadata": {},
   "source": [
    "----\n",
    "\n",
    "## Step 2: Design and Test a Model Architecture\n",
    "\n",
    "Design and implement a deep learning model that learns to recognize traffic signs. Train and test your model on the [German Traffic Sign Dataset](http://benchmark.ini.rub.de/?section=gtsrb&subsection=dataset).\n",
    "\n",
    "There are various aspects to consider when thinking about this problem:\n",
    "\n",
    "- Neural network architecture\n",
    "- Play around preprocessing techniques (normalization, rgb to grayscale, etc)\n",
    "- Number of examples per label (some have more than others).\n",
    "- Generate fake data.\n",
    "\n",
    "Here is an example of a [published baseline model on this problem](http://yann.lecun.com/exdb/publis/pdf/sermanet-ijcnn-11.pdf). It's not required to be familiar with the approach used in the paper but, it's good practice to try to read papers like these.\n",
    "\n",
    "**NOTE:** The LeNet-5 implementation shown in the [classroom](https://classroom.udacity.com/nanodegrees/nd013/parts/fbf77062-5703-404e-b60c-95b78b2f3f9e/modules/6df7ae49-c61c-4bb2-a23e-6527e69209ec/lessons/601ae704-1035-4287-8b11-e2c2716217ad/concepts/d4aca031-508f-4e0b-b493-e7b706120f81) at the end of the CNN lesson is a solid starting point. You'll have to change the number of classes and possibly the preprocessing, but aside from that it's plug and play!"
   ]
  },
  {
   "cell_type": "markdown",
   "metadata": {},
   "source": [
    "### Implementation\n",
    "\n",
    "Use the code cell (or multiple code cells, if necessary) to implement the first step of your project. Once you have completed your implementation and are satisfied with the results, be sure to thoroughly answer the questions that follow."
   ]
  },
  {
   "cell_type": "markdown",
   "metadata": {},
   "source": [
    "#### LENet Code for traffic Sign classifier"
   ]
  },
  {
   "cell_type": "code",
   "execution_count": null,
   "metadata": {
    "collapsed": false
   },
   "outputs": [],
   "source": [
    "### Preprocess the data here.\n",
    "### Feel free to use as many code cells as needed.\n",
    "\n",
    "from tensorflow.contrib.layers import flatten\n",
    "import tensorflow as tf\n",
    "\n",
    "\n",
    "def conv2d(x,weight,bias,strides=1,padding='SAME'):\n",
    "    layer = tf.nn.conv2d(x,weight,[1,strides,strides,1],padding=padding)\n",
    "    layer = tf.nn.bias_add(layer,bias)\n",
    "    layer = tf.nn.relu(layer)\n",
    "    return layer\n",
    "\n",
    "def maxpool(x,k=2,padding='SAME'):\n",
    "    kernel_size = [1,k,k,1]\n",
    "    return tf.nn.max_pool(x,ksize=kernel_size,strides=[1,k,k,1],padding=padding)\n",
    "    \n",
    "    \n",
    "def LeNet(x,keep_prob):    \n",
    "    # Hyperparameters\n",
    "    mu = 0\n",
    "    sigma = 0.1\n",
    "    layer_depth = {\n",
    "    'layer_1': 6,\n",
    "    'layer_2': 16,\n",
    "    'fully_connected_1': 120,\n",
    "    'fully_connected_2': 84,\n",
    "    'fully_connected_3': 43\n",
    "    }\n",
    "    \n",
    "    weights = {\n",
    "        'layer_1': tf.Variable(tf.random_normal([5, 5, 1, layer_depth['layer_1']], mean=0.0, stddev=1.0, dtype=tf.float32) ),\n",
    "        'layer_2': tf.Variable(tf.random_normal(\n",
    "                [5, 5, layer_depth['layer_1'], layer_depth['layer_2']],mu,sigma,dtype=tf.float32)),\n",
    "        'fully_connected_1':tf.Variable(tf.random_normal(\n",
    "                [5*5*16, layer_depth['fully_connected_1']],mu,sigma,dtype=tf.float32)),\n",
    "        'fully_connected_2':tf.Variable(tf.random_normal(\n",
    "               [layer_depth['fully_connected_1'], layer_depth['fully_connected_2']],mu,sigma,dtype=tf.float32)),\n",
    "        'fully_connected_3':tf.Variable(tf.random_normal(\n",
    "                [layer_depth['fully_connected_2'], layer_depth['fully_connected_3']],mu,sigma,dtype=tf.float32))\n",
    "    }\n",
    "    biases = {\n",
    "        'layer_1': tf.Variable(tf.zeros(\n",
    "                layer_depth['layer_1'])),\n",
    "        'layer_2': tf.Variable(tf.zeros(\n",
    "                layer_depth['layer_2'])),\n",
    "        'fully_connected_1':tf.Variable(tf.zeros( \n",
    "                layer_depth['fully_connected_1'])),\n",
    "        'fully_connected_2':tf.Variable(tf.zeros( \n",
    "               layer_depth['fully_connected_2'])),\n",
    "        'fully_connected_3':tf.Variable(tf.zeros( \n",
    "                layer_depth['fully_connected_3'])),\n",
    "    }\n",
    "    \n",
    "    # TODO: Layer 1: Convolutional. Input = 32x32x3. Output = 28x28x6.\n",
    "    # TODO: Activation.\n",
    "    layer_1 = conv2d(x,weights['layer_1'],biases['layer_1'],strides=1,padding='VALID')\n",
    "    print(layer_1.get_shape())\n",
    "    # TODO: Pooling. Input = 28x28x6. Output = 14x14x6.\n",
    "    layer_1 = maxpool(layer_1,k=2)\n",
    "    print(layer_1.get_shape())\n",
    "    \n",
    "    \n",
    "    # TODO: Layer 2: Convolutional. Output = 10x10x16.\n",
    "    \n",
    "    # TODO: Activation.\n",
    "    layer_2 = conv2d(layer_1,weights['layer_2'],biases['layer_2'],strides=1,padding='VALID')\n",
    "    print(layer_2.get_shape())\n",
    "    # TODO: Pooling. Input = 10x10x16. Output = 5x5x16.\n",
    "    layer_2 = maxpool(layer_2,k=2)\n",
    "    print(layer_2.get_shape())\n",
    "    \n",
    "    \n",
    "    # TODO: Flatten. Input = 5x5x16. Output = 400.\n",
    "    fc1 = flatten(layer_2)\n",
    "    \n",
    "    \n",
    "    fc1_drop = tf.nn.dropout(fc1, keep_prob)\n",
    "\n",
    "    # TODO: Layer 3: Fully Connected. Input = 400. Output = 120.\n",
    "    \n",
    "    fc1 = tf.add(\n",
    "        tf.matmul(fc1_drop, weights['fully_connected_1']),\n",
    "        biases['fully_connected_1'])\n",
    "    # TODO: Activation.\n",
    "    fc1= tf.nn.tanh(fc1)\n",
    "    \n",
    "    \n",
    "    fc1_drop = tf.nn.dropout(fc1, keep_prob)\n",
    "    # TODO: Layer 4: Fully Connected. Input = 120. Output = 84.\n",
    "    \n",
    "    fc2 = tf.add(\n",
    "        tf.matmul(fc1_drop, weights['fully_connected_2']),\n",
    "        biases['fully_connected_2'])\n",
    "    # TODO: Activation.\n",
    "    fc2= tf.nn.tanh(fc2)\n",
    "    fc2_drop = tf.nn.dropout(fc2, keep_prob)\n",
    "\n",
    "    # TODO: Layer 5: Fully Connected. Input = 84. Output = 10.\n",
    "    fc3 = tf.add(\n",
    "        tf.matmul(fc2_drop, weights['fully_connected_3']),\n",
    "        biases['fully_connected_3'])\n",
    "    # TODO: Activation.\n",
    "    logits= tf.nn.tanh(fc3)\n",
    "    return logits"
   ]
  },
  {
   "cell_type": "code",
   "execution_count": null,
   "metadata": {
    "collapsed": false
   },
   "outputs": [],
   "source": [
    "def LeNet_multi(x,keep_prob):    \n",
    "    # Hyperparameters\n",
    "    mu = 0\n",
    "    sigma = 0.1\n",
    "    layer_depth = {\n",
    "    'layer_1': 9,\n",
    "    'layer_2': 16,\n",
    "    'fully_connected_1': 120,\n",
    "#     'fully_connected_2': 84,\n",
    "    'fully_connected_3': 43\n",
    "    }\n",
    "    \n",
    "    weights = {\n",
    "        'layer_1': tf.Variable(tf.random_normal([5, 5, 1, layer_depth['layer_1']], mean=0.0, stddev=1.0, dtype=tf.float32) ),\n",
    "        'layer_2': tf.Variable(tf.random_normal(\n",
    "                [5, 5, layer_depth['layer_1'], layer_depth['layer_2']],mu,sigma,dtype=tf.float32)),\n",
    "        'fully_connected_1':tf.Variable(tf.random_normal(\n",
    "                [5*5*16+14*14*9, layer_depth['fully_connected_1']],mu,sigma,dtype=tf.float32)),\n",
    "#         'fully_connected_2':tf.Variable(tf.random_normal(\n",
    "#                [layer_depth['fully_connected_1'], layer_depth['fully_connected_2']],mu,sigma,dtype=tf.float32)),\n",
    "        'fully_connected_3':tf.Variable(tf.random_normal(\n",
    "                [layer_depth['fully_connected_1'], layer_depth['fully_connected_3']],mu,sigma,dtype=tf.float32))\n",
    "    }\n",
    "    biases = {\n",
    "        'layer_1': tf.Variable(tf.zeros(\n",
    "                layer_depth['layer_1'])),\n",
    "        'layer_2': tf.Variable(tf.zeros(\n",
    "                layer_depth['layer_2'])),\n",
    "        'fully_connected_1':tf.Variable(tf.zeros( \n",
    "                layer_depth['fully_connected_1'])),\n",
    "#         'fully_connected_2':tf.Variable(tf.zeros( \n",
    "#                layer_depth['fully_connected_2'])),\n",
    "        'fully_connected_3':tf.Variable(tf.zeros( \n",
    "                layer_depth['fully_connected_3'])),\n",
    "    }\n",
    "    \n",
    "    # TODO: Layer 1: Convolutional. Input = 32x32x3. Output = 28x28x6.\n",
    "    # TODO: Activation.\n",
    "    layer_1 = conv2d(x,weights['layer_1'],biases['layer_1'],strides=1,padding='VALID')\n",
    "    print(layer_1.get_shape())\n",
    "    # TODO: Pooling. Input = 28x28x6. Output = 14x14x6.\n",
    "    layer_1 = maxpool(layer_1,k=2)\n",
    "    print(layer_1.get_shape())\n",
    "    \n",
    "    \n",
    "    # TODO: Layer 2: Convolutional. Output = 10x10x16.\n",
    "    \n",
    "    # TODO: Activation.\n",
    "    layer_2 = conv2d(layer_1,weights['layer_2'],biases['layer_2'],strides=1,padding='VALID')\n",
    "    print(layer_2.get_shape())\n",
    "    # TODO: Pooling. Input = 10x10x16. Output = 5x5x16.\n",
    "    layer_2 = maxpool(layer_2,k=2)\n",
    "    print(layer_2.get_shape())\n",
    "    \n",
    "    \n",
    "    # TODO: Flatten. Input = 5x5x16. Output = 400.\n",
    "    \n",
    "    fc1 = flatten(layer_2)\n",
    "    fc1 = tf.concat(1,(fc1,flatten(layer_1)))\n",
    "    \n",
    "    \n",
    "    fc1_drop = tf.nn.dropout(fc1, keep_prob)\n",
    "\n",
    "    # TODO: Layer 3: Fully Connected. Input = 400. Output = 120.\n",
    "    \n",
    "    fc1 = tf.add(\n",
    "        tf.matmul(fc1_drop, weights['fully_connected_1']),\n",
    "        biases['fully_connected_1'])\n",
    "    # TODO: Activation.\n",
    "    fc1= tf.nn.tanh(fc1)\n",
    "    \n",
    "    \n",
    "    fc1_drop = tf.nn.dropout(fc1, keep_prob)\n",
    "    # TODO: Layer 4: Fully Connected. Input = 120. Output = 84.\n",
    "    \n",
    "#     fc2 = tf.add(\n",
    "#         tf.matmul(fc1_drop, weights['fully_connected_2']),\n",
    "#         biases['fully_connected_2'])\n",
    "#     # TODO: Activation.\n",
    "#     fc2= tf.nn.tanh(fc2)\n",
    "    fc2_drop = fc1_drop#tf.nn.dropout(fc2, keep_prob)\n",
    "\n",
    "    # TODO: Layer 5: Fully Connected. Input = 84. Output = 10.\n",
    "    fc3 = tf.add(\n",
    "        tf.matmul(fc2_drop, weights['fully_connected_3']),\n",
    "        biases['fully_connected_3'])\n",
    "    # TODO: Activation.\n",
    "    logits= tf.nn.tanh(fc3)\n",
    "    return logits"
   ]
  },
  {
   "cell_type": "code",
   "execution_count": null,
   "metadata": {
    "collapsed": true
   },
   "outputs": [],
   "source": [
    "def fully_connected(in_tensor,layers,keep_prob):\n",
    "    mu = 0\n",
    "    sigma = 0.1\n",
    "    in_dim = np.product(in_tensor.get_shape().as_list()[1:])\n",
    "    tensor_flatten = flatten(in_tensor)\n",
    "    print(in_dim)\n",
    "    for each in layers:\n",
    "        weights = tf.Variable(tf.random_normal([in_dim, each],mu,sigma,dtype=tf.float32))\n",
    "        bias =  tf.Variable(tf.zeros(each))\n",
    "\n",
    "        fc1_drop = tf.nn.dropout(tensor_flatten, keep_prob)    \n",
    "        fc2 = tf.add(\n",
    "        tf.matmul(fc1_drop, weights),\n",
    "        bias)\n",
    "        # TODO: Activation.\n",
    "        tensor_flatten = tf.nn.tanh(fc2)\n",
    "        in_dim = each\n",
    "        print(in_dim)\n",
    "    \n",
    "    return tensor_flatten\n",
    "         \n",
    "import tensorflow.contrib.slim as slim\n",
    "\n",
    "def LeNet_multi_batchnorm(x,keep_prob):    \n",
    "    # Hyperparameters\n",
    "    mu = 0\n",
    "    sigma = 0.1\n",
    "    layer_depth = {\n",
    "    'layer_1': 9,\n",
    "    'layer_2': 16,\n",
    "    'fully_connected_1': 120,\n",
    "#     'fully_connected_2': 84,\n",
    "    'fully_connected_3': 43\n",
    "    }\n",
    "    \n",
    "    input_layer = slim.conv2d(x,9,[5,5],activation_fn=None)\n",
    "    \n",
    "    input_layer_1 = slim.batch_norm(input_layer,activation_fn=None)\n",
    "    input_layer_1 = tf.nn.relu(input_layer_1)\n",
    "    layer_1 = maxpool(input_layer_1,k=2)\n",
    "    \n",
    "    input_layer_2 = slim.conv2d(layer_1,16,[5,5],activation_fn=None)\n",
    "    input_layer_2 = slim.batch_norm(input_layer_2,activation_fn=None)\n",
    "    input_layer_2 = tf.nn.relu(input_layer_2)\n",
    "    layer_2 = maxpool(input_layer_2,k=2)\n",
    "    \n",
    "    fc1 = flatten(layer_2)\n",
    "    fc1 = tf.concat(1,(fc1,flatten(layer_1)))\n",
    "    \n",
    "    \n",
    "    logits = fully_connected(fc1,[140,56,43],keep_prob)\n",
    "    return logits"
   ]
  },
  {
   "cell_type": "code",
   "execution_count": null,
   "metadata": {
    "collapsed": false
   },
   "outputs": [],
   "source": [
    "def MyNet(x,keep_prob):    \n",
    "    # Hyperparameters\n",
    "    mu = 0\n",
    "    sigma = 0.1\n",
    "    layer_depth = {\n",
    "    'layer_1': 9,\n",
    "    'layer_2': 16,\n",
    "    'fully_connected_1': 120,\n",
    "    'fully_connected_2': 84,\n",
    "    'fully_connected_3': 43\n",
    "    }\n",
    "    \n",
    "    layer_depth_second = {\n",
    "    'layer_1': 9,\n",
    "    'layer_2': 16\n",
    "        }\n",
    "    weights_second = {\n",
    "        'layer_1': tf.Variable(tf.random_normal([7, 7,1 , layer_depth_second['layer_1']], mean=0.0, stddev=1.0, dtype=tf.float32) ),\n",
    "        'layer_2': tf.Variable(tf.random_normal(\n",
    "                [7, 7, layer_depth_second['layer_1'], layer_depth_second['layer_2']],mu,sigma,dtype=tf.float32))\n",
    "        }\n",
    "    biases_second = {\n",
    "        'layer_1': tf.Variable(tf.zeros(\n",
    "                layer_depth_second['layer_1'])),\n",
    "        'layer_2': tf.Variable(tf.zeros(\n",
    "                layer_depth_second['layer_2']))\n",
    "        }\n",
    "    \n",
    "    weights = {\n",
    "        'layer_1': tf.Variable(tf.random_normal([5, 5,1 , layer_depth['layer_1']], mean=0.0, stddev=1.0, dtype=tf.float32) ),\n",
    "        'layer_2': tf.Variable(tf.random_normal(\n",
    "                [5, 5, layer_depth['layer_1'], layer_depth['layer_2']],mu,sigma,dtype=tf.float32)),\n",
    "        'fully_connected_1':tf.Variable(tf.random_normal(\n",
    "                [5*5*16+4*4*16, layer_depth['fully_connected_1']],mu,sigma,dtype=tf.float32)),\n",
    "        'fully_connected_2':tf.Variable(tf.random_normal(\n",
    "                [layer_depth['fully_connected_1'], layer_depth['fully_connected_2']],mu,sigma,dtype=tf.float32)),\n",
    "        'fully_connected_3':tf.Variable(tf.random_normal(\n",
    "                [layer_depth['fully_connected_2'], layer_depth['fully_connected_3']],mu,sigma,dtype=tf.float32))\n",
    "    }\n",
    "    biases = {\n",
    "        'layer_1': tf.Variable(tf.zeros(\n",
    "                layer_depth['layer_1'])),\n",
    "        'layer_2': tf.Variable(tf.zeros(\n",
    "                layer_depth['layer_2'])),\n",
    "        'fully_connected_1':tf.Variable(tf.zeros( \n",
    "                layer_depth['fully_connected_1'])),\n",
    "        'fully_connected_2':tf.Variable(tf.zeros( \n",
    "                layer_depth['fully_connected_2'])),\n",
    "        'fully_connected_3':tf.Variable(tf.zeros( \n",
    "                layer_depth['fully_connected_3'])),\n",
    "    }\n",
    "    \n",
    "    ####### SECOND #########\n",
    "    second_layer_1 = conv2d(x,weights_second['layer_1'],biases_second['layer_1'],strides=1,padding='VALID')\n",
    "    print(second_layer_1.get_shape())\n",
    "    # TODO: Pooling. Input = 28x28x6. Output = 14x14x6.\n",
    "    second_layer_1 = maxpool(second_layer_1,k=2)\n",
    "    print(second_layer_1.get_shape())\n",
    "    \n",
    "    \n",
    "    # TODO: Layer 2: Convolutional. Output = 10x10x16.\n",
    "    \n",
    "    # TODO: Activation.\n",
    "    second_layer_2 = conv2d(second_layer_1,weights_second['layer_2'],biases_second['layer_2'],strides=1,padding='VALID')\n",
    "    print(second_layer_2.get_shape())\n",
    "    # TODO: Pooling. Input = 10x10x16. Output = 5x5x16.\n",
    "    second_layer_2 = maxpool(second_layer_2,k=2)\n",
    "    print(second_layer_2.get_shape())\n",
    "    \n",
    "    fc1_second = flatten(second_layer_2)\n",
    "    \n",
    "    ###################\n",
    "    \n",
    "    \n",
    "    # TODO: Layer 1: Convolutional. Input = 32x32x3. Output = 28x28x6.\n",
    "    # TODO: Activation.\n",
    "    layer_1 = conv2d(x,weights['layer_1'],biases['layer_1'],strides=1,padding='VALID')\n",
    "    print(layer_1.get_shape())\n",
    "    # TODO: Pooling. Input = 28x28x6. Output = 14x14x6.\n",
    "    layer_1 = maxpool(layer_1,k=2)\n",
    "    print(layer_1.get_shape())\n",
    "    \n",
    "    \n",
    "    # TODO: Layer 2: Convolutional. Output = 10x10x16.\n",
    "    \n",
    "    # TODO: Activation.\n",
    "    layer_2 = conv2d(layer_1,weights['layer_2'],biases['layer_2'],strides=1,padding='VALID')\n",
    "    print(layer_2.get_shape())\n",
    "    # TODO: Pooling. Input = 10x10x16. Output = 5x5x16.\n",
    "    layer_2 = maxpool(layer_2,k=2)\n",
    "    print(layer_2.get_shape())\n",
    "    \n",
    "    \n",
    "    # TODO: Flatten. Input = 5x5x16. Output = 400.\n",
    "    fc1 = flatten(layer_2)\n",
    "    fc1 = tf.concat(1,[fc1_second,fc1])#(,0))\n",
    "    print(fc1.get_shape())\n",
    "    \n",
    "    \n",
    "    fc1_drop = tf.nn.dropout(fc1, keep_prob)\n",
    "\n",
    "    # TODO: Layer 3: Fully Connected. Input = 400. Output = 120.\n",
    "    \n",
    "    fc1 = tf.add(\n",
    "        tf.matmul(fc1_drop, weights['fully_connected_1']),\n",
    "        biases['fully_connected_1'])\n",
    "    # TODO: Activation.\n",
    "    fc1= tf.nn.tanh(fc1)\n",
    "    \n",
    "    \n",
    "    fc1_drop = tf.nn.dropout(fc1, keep_prob)\n",
    "    # TODO: Layer 4: Fully Connected. Input = 120. Output = 84.\n",
    "    \n",
    "    fc2 = tf.add(\n",
    "        tf.matmul(fc1_drop, weights['fully_connected_2']),\n",
    "        biases['fully_connected_2'])\n",
    "    # TODO: Activation.\n",
    "    fc2= tf.nn.tanh(fc2)\n",
    "    fc2_drop = tf.nn.dropout(fc2, keep_prob)\n",
    "\n",
    "    # TODO: Layer 5: Fully Connected. Input = 84. Output = 10.\n",
    "    fc3 = tf.add(\n",
    "        tf.matmul(fc2_drop, weights['fully_connected_3']),\n",
    "        biases['fully_connected_3'])\n",
    "    # TODO: Activation.\n",
    "    logits= tf.nn.tanh(fc3)\n",
    "    return logits"
   ]
  },
  {
   "cell_type": "code",
   "execution_count": null,
   "metadata": {
    "collapsed": true
   },
   "outputs": [],
   "source": [
    "INPUT_DEPTH = 1\n",
    "def MyNet2(x,keep_prob):\n",
    "    print(x.get_shape())\n",
    "    convolutions_list=[(5,7,1,1),(5,5,1,1),(5,3,1,1)] #filter_size, channels, stride, n_repeats\n",
    "\n",
    "    #in_tensor = tf.reshape(self.state, [-1] + self.input_shape[1:])\n",
    "    in_tensor = x\n",
    "    for filter_size, num_outputs, stride, repeats in convolutions_list:\n",
    "        for _ in range(repeats):\n",
    "            in_tensor = tf.contrib.layers.convolution2d(in_tensor,\n",
    "                num_outputs=num_outputs,\n",
    "                kernel_size=filter_size,\n",
    "                stride=stride,\n",
    "                padding='VALID',\n",
    "                rate=1,\n",
    "                activation_fn=tf.nn.relu,\n",
    "                trainable=True)\n",
    "            print(in_tensor.get_shape())\n",
    "                # TODO: parameterized pooling layers\n",
    "        pool_out = tf.contrib.layers.max_pool2d(in_tensor,\n",
    "            kernel_size=[2,2],\n",
    "            stride=[1,1],\n",
    "            padding='VALID')\n",
    "        in_tensor = pool_out\n",
    "\n",
    "    out_dim = np.product(in_tensor.get_shape().as_list()[1:])\n",
    "    cnn_out = flatten(in_tensor)\n",
    "    #fc_in_shape = cnn_out.get_shape()[1]\n",
    "    fc1_drop_1 = tf.nn.dropout(cnn_out, keep_prob)\n",
    "    mu = 0\n",
    "    sigma = 0.1\n",
    "    out_dim = np.product(in_tensor.get_shape().as_list()[1:])\n",
    "    print(out_dim)\n",
    "    fc_weights = tf.Variable(tf.truncated_normal(\n",
    "            [out_dim, 43],mu,sigma,dtype=tf.float32))\n",
    "    biases = tf.Variable(tf.zeros( \n",
    "            43))\n",
    "    # TODO: Layer 3: Fully Connected. Input = 400. Output = 120.\n",
    "\n",
    "    fc1_1 = tf.add(\n",
    "                tf.matmul(fc1_drop_1, fc_weights)\n",
    "                ,biases\n",
    "                )\n",
    "    # TODO: Activation.\n",
    "    fc1_1= tf.nn.tanh(fc1_1)\n",
    "        \n",
    "    return fc1_1\n",
    "        "
   ]
  },
  {
   "cell_type": "code",
   "execution_count": null,
   "metadata": {
    "collapsed": false
   },
   "outputs": [],
   "source": [
    "\n",
    "tf.reset_default_graph()\n",
    "x = tf.placeholder(tf.float32, (None, 32, 32, INPUT_DEPTH))\n",
    "y = tf.placeholder(tf.int32, (None))\n",
    "keep_prob = tf.placeholder(tf.float32)\n",
    "one_hot_y = tf.one_hot(y, 43)"
   ]
  },
  {
   "cell_type": "code",
   "execution_count": null,
   "metadata": {
    "collapsed": true
   },
   "outputs": [],
   "source": [
    "EPOCHS = 200\n",
    "BATCH_SIZE = 1024"
   ]
  },
  {
   "cell_type": "code",
   "execution_count": null,
   "metadata": {
    "collapsed": false
   },
   "outputs": [],
   "source": [
    "import tensorflow as tf\n",
    "from sklearn.utils import shuffle\n",
    "from sklearn.model_selection import train_test_split\n",
    "\n",
    "#X_test_1,X_validation, y_test_1, y_validation = train_test_split(X_test, y_test, test_size=0.33, random_state=42)\n"
   ]
  },
  {
   "cell_type": "code",
   "execution_count": null,
   "metadata": {
    "collapsed": false
   },
   "outputs": [],
   "source": [
    "rate = 0.001\n",
    "\n",
    "logits = LeNet_multi_batchnorm(x,keep_prob)\n",
    "cross_entropy = tf.nn.softmax_cross_entropy_with_logits(logits, one_hot_y)\n",
    "loss_operation = tf.reduce_mean(cross_entropy)\n",
    "optimizer = tf.train.AdamOptimizer(learning_rate = rate)\n",
    "# Gradient clipping\n",
    "gvs = optimizer.compute_gradients(loss_operation)\n",
    "capped_gvs = [(tf.clip_by_value(grad, -1., 1.), var) for grad, var in gvs]\n",
    "optimizer.apply_gradients(capped_gvs)\n",
    "\n",
    "training_operation = optimizer.minimize(loss_operation)"
   ]
  },
  {
   "cell_type": "code",
   "execution_count": null,
   "metadata": {
    "collapsed": false
   },
   "outputs": [],
   "source": [
    "correct_prediction = tf.equal(tf.argmax(logits, 1), tf.argmax(one_hot_y, 1))\n",
    "accuracy_operation = tf.reduce_mean(tf.cast(correct_prediction, tf.float32))\n",
    "saver = tf.train.Saver()\n",
    "\n",
    "def evaluate(X_data, y_data):\n",
    "    num_examples = len(X_data)\n",
    "    total_accuracy = 0\n",
    "    sess = tf.get_default_session()\n",
    "    for offset in range(0, num_examples, BATCH_SIZE):\n",
    "        batch_x, batch_y = X_data[offset:offset+BATCH_SIZE], y_data[offset:offset+BATCH_SIZE]\n",
    "        accuracy = sess.run(accuracy_operation, feed_dict={x: batch_x, y: batch_y,keep_prob:1.0})\n",
    "        total_accuracy += (accuracy * len(batch_x))\n",
    "    return total_accuracy / num_examples"
   ]
  },
  {
   "cell_type": "code",
   "execution_count": null,
   "metadata": {
    "collapsed": false,
    "scrolled": false
   },
   "outputs": [],
   "source": [
    "#model_file = \"lenet_drop_v2\"\n",
    "import os\n",
    "from imblearn.over_sampling import RandomOverSampler\n",
    "import os\n",
    "os.environ[\"CUDA_VISIBLE_DEVICES\"]=\"0\"\n",
    "\n",
    "#model_file = \"./lenet_multi_final_v5\"\n",
    "# model_file = \"./lenet_multi_batch_norm_final_v6\"\n",
    "model_file = \"./lenet_multi_batch_norm_equal_v9\"\n",
    "with tf.Session() as sess:\n",
    "    sess.run(tf.initialize_all_variables())\n",
    "    num_examples =len(X_train)#392090\n",
    "    from pathlib import Path\n",
    "    \n",
    "\n",
    "    my_file = Path(model_file+\".meta\")\n",
    "    if my_file.is_file():\n",
    "        saver.restore(sess,model_file)\n",
    "        print(\"Model restored...\")\n",
    "    print(\"Training...\")\n",
    "    print()\n",
    "    ros = RandomOverSampler()\n",
    "#     x_index = np.arange(0,len(y_train),1)\n",
    "#     x_index_resampled, y_resampled = ros.fit_sample(np.expand_dims(x_index,axis=1), y_train)\n",
    "#     x_in = np.squeeze(x_index_resampled)\n",
    "#     X_resampled = X_train[x_in,:,:,]\n",
    "#     X_train_1, y_train_1 = shuffle(X_resampled, y_resampled)\n",
    "    X_train_1 = X_train\n",
    "    y_train_1 = y_train\n",
    "    print(\"Total \"+str(len(y_train_1)))\n",
    "    for i in range(EPOCHS):\n",
    "\n",
    "        X_train, y_train = shuffle(X_train_1, y_train_1)\n",
    "        acc = []\n",
    "        ent = []\n",
    "        for offset in range(0, num_examples, BATCH_SIZE):\n",
    "            end = offset + BATCH_SIZE\n",
    "            \n",
    "            batch_x, batch_y = np.copy(X_train[offset:end]), np.copy(y_train[offset:end])\n",
    "            sess.run(training_operation, feed_dict={x: batch_x, y: batch_y,keep_prob:0.8})\n",
    "            training_accuracy = evaluate(batch_x, batch_y)\n",
    "            mean_cross_entropy = sess.run(loss_operation, feed_dict={x: batch_x, y: batch_y,keep_prob:1.0})\n",
    "            acc.append(training_accuracy)\n",
    "            ent.append(mean_cross_entropy)\n",
    "            \n",
    "        validation_accuracy = evaluate(X_validation, y_validation)\n",
    "        \n",
    "        print(\"EPOCH {} ...\".format(i+1))\n",
    "        print(\"Training Accuracy = {:.3f}\".format(np.mean(acc)))\n",
    "        print(\"Cross entropy = {:.4f}\".format(np.mean(ent)))\n",
    "        print(\"Validation Accuracy = {:.3f}\".format(validation_accuracy))\n",
    "        \n",
    "        if(i%10==0):\n",
    "            saver.save(sess, model_file)\n",
    "            print(\"Model saved\")\n",
    "        \n",
    "    saver.save(sess, model_file)\n",
    "    print(\"Model saved\")"
   ]
  },
  {
   "cell_type": "code",
   "execution_count": null,
   "metadata": {
    "collapsed": false
   },
   "outputs": [],
   "source": [
    "#!pip install  imblearn"
   ]
  },
  {
   "cell_type": "code",
   "execution_count": null,
   "metadata": {
    "collapsed": false
   },
   "outputs": [],
   "source": [
    "# new_training_file = \"validation.p\"\n",
    "# new_train = {}\n",
    "# new_train['features'] = X_validation\n",
    "# new_train['labels'] = y_validation\n",
    "# pickle.dump( new_train, open( new_training_file, \"wb\" ) )\n",
    "with tf.Session() as sess:\n",
    "    sess.run(tf.initialize_all_variables())\n",
    "    num_examples =len(X_train)#392090\n",
    "    from pathlib import Path\n",
    "    \n",
    "\n",
    "    my_file = Path(model_file)\n",
    "    if my_file.is_file():\n",
    "        saver.restore(sess,model_file)\n",
    "        print(\"Model restored...\")\n",
    "    print(evaluate(X_test, y_test))"
   ]
  },
  {
   "cell_type": "markdown",
   "metadata": {},
   "source": [
    "### Question 1 \n",
    "\n",
    "_Describe how you preprocessed the data. Why did you choose that technique?_"
   ]
  },
  {
   "cell_type": "markdown",
   "metadata": {},
   "source": [
    "**Answer:**"
   ]
  },
  {
   "cell_type": "code",
   "execution_count": null,
   "metadata": {
    "collapsed": true
   },
   "outputs": [],
   "source": [
    "### Generate data additional data (OPTIONAL!)\n",
    "# With slight rotation only as flipping reverses the direction, so avoided some of the data preprocessing steps. \n",
    "# Contrast increase \n",
    "# \n",
    "### and split the data into training/validation/testing sets here.\n",
    "### Feel free to use as many code cells as needed."
   ]
  },
  {
   "cell_type": "markdown",
   "metadata": {},
   "source": [
    "### Question 2\n",
    "\n",
    "_Describe how you set up the training, validation and testing data for your model. **Optional**: If you generated additional data, how did you generate the data? Why did you generate the data? What are the differences in the new dataset (with generated data) from the original dataset?_"
   ]
  },
  {
   "cell_type": "markdown",
   "metadata": {},
   "source": [
    "**Answer:**"
   ]
  },
  {
   "cell_type": "code",
   "execution_count": null,
   "metadata": {
    "collapsed": true
   },
   "outputs": [],
   "source": [
    "### Define your architecture here.\n",
    "### Feel free to use as many code cells as needed."
   ]
  },
  {
   "cell_type": "markdown",
   "metadata": {},
   "source": [
    "### Question 3\n",
    "\n",
    "_What does your final architecture look like? (Type of model, layers, sizes, connectivity, etc.)  For reference on how to build a deep neural network using TensorFlow, see [Deep Neural Network in TensorFlow\n",
    "](https://classroom.udacity.com/nanodegrees/nd013/parts/fbf77062-5703-404e-b60c-95b78b2f3f9e/modules/6df7ae49-c61c-4bb2-a23e-6527e69209ec/lessons/b516a270-8600-4f93-a0a3-20dfeabe5da6/concepts/83a3a2a2-a9bd-4b7b-95b0-eb924ab14432) from the classroom._\n"
   ]
  },
  {
   "cell_type": "markdown",
   "metadata": {},
   "source": [
    "**Answer:**"
   ]
  },
  {
   "cell_type": "code",
   "execution_count": null,
   "metadata": {
    "collapsed": true
   },
   "outputs": [],
   "source": [
    "### Train your model here.\n",
    "### Feel free to use as many code cells as needed.\n",
    "\n",
    "# Architecture diagram + Tensorflow graph."
   ]
  },
  {
   "cell_type": "markdown",
   "metadata": {},
   "source": [
    "### Question 4\n",
    "\n",
    "_How did you train your model? (Type of optimizer, batch size, epochs, hyperparameters, etc.)_\n"
   ]
  },
  {
   "cell_type": "markdown",
   "metadata": {},
   "source": [
    "**Answer:**"
   ]
  },
  {
   "cell_type": "markdown",
   "metadata": {},
   "source": [
    "### Question 5\n",
    "\n",
    "\n",
    "_What approach did you take in coming up with a solution to this problem? It may have been a process of trial and error, in which case, outline the steps you took to get to the final solution and why you chose those steps. Perhaps your solution involved an already well known implementation or architecture. In this case, discuss why you think this is suitable for the current problem._"
   ]
  },
  {
   "cell_type": "markdown",
   "metadata": {},
   "source": [
    "**Answer:**\n",
    "Things tried \n",
    "1. Augment Data with -5 degree to 5 degree purterbation \n",
    "2. Gray scale (Image convert)\n",
    "3. Image Normalization \n",
    "4. LeNet Architecture \n",
    "5. Adding the drop out layer for the fully connected piece \n",
    "6. Simpler model for Gray scale ( 94 % validation ). Removing the one layer of fully connected.\n",
    "\n",
    "Things to try \n",
    "1. HSV/V value only \n",
    "2. Zoom in Zoom out perturbation to data.\n",
    "3. Multiple Conv layer before Pooling layer.\n",
    "4. Regularizer/ Gradient clipping.\n",
    "5. Batch Normalization"
   ]
  },
  {
   "cell_type": "markdown",
   "metadata": {},
   "source": [
    "---\n",
    "\n",
    "## Step 3: Test a Model on New Images\n",
    "\n",
    "Take several pictures of traffic signs that you find on the web or around you (at least five), and run them through your classifier on your computer to produce example results. The classifier might not recognize some local signs but it could prove interesting nonetheless.\n",
    "\n",
    "You may find `signnames.csv` useful as it contains mappings from the class id (integer) to the actual sign name."
   ]
  },
  {
   "cell_type": "markdown",
   "metadata": {},
   "source": [
    "### Implementation\n",
    "\n",
    "Use the code cell (or multiple code cells, if necessary) to implement the first step of your project. Once you have completed your implementation and are satisfied with the results, be sure to thoroughly answer the questions that follow."
   ]
  },
  {
   "cell_type": "code",
   "execution_count": null,
   "metadata": {
    "collapsed": true
   },
   "outputs": [],
   "source": [
    "### Load the images and plot them here.\n",
    "### Feel free to use as many code cells as needed."
   ]
  },
  {
   "cell_type": "markdown",
   "metadata": {},
   "source": [
    "### Question 6\n",
    "\n",
    "_Choose five candidate images of traffic signs and provide them in the report. Are there any particular qualities of the image(s) that might make classification difficult? It could be helpful to plot the images in the notebook._\n",
    "\n"
   ]
  },
  {
   "cell_type": "markdown",
   "metadata": {},
   "source": [
    "**Answer:**"
   ]
  },
  {
   "cell_type": "code",
   "execution_count": null,
   "metadata": {
    "collapsed": true
   },
   "outputs": [],
   "source": [
    "### Run the predictions here.\n",
    "### Feel free to use as many code cells as needed."
   ]
  },
  {
   "cell_type": "markdown",
   "metadata": {},
   "source": [
    "### Question 7\n",
    "\n",
    "_Is your model able to perform equally well on captured pictures when compared to testing on the dataset? The simplest way to do this check the accuracy of the predictions. For example, if the model predicted 1 out of 5 signs correctly, it's 20% accurate._\n",
    "\n",
    "_**NOTE:** You could check the accuracy manually by using `signnames.csv` (same directory). This file has a mapping from the class id (0-42) to the corresponding sign name. So, you could take the class id the model outputs, lookup the name in `signnames.csv` and see if it matches the sign from the image._\n"
   ]
  },
  {
   "cell_type": "markdown",
   "metadata": {},
   "source": [
    "**Answer:**"
   ]
  },
  {
   "cell_type": "code",
   "execution_count": null,
   "metadata": {
    "collapsed": true
   },
   "outputs": [],
   "source": [
    "### Visualize the softmax probabilities here.\n",
    "### Feel free to use as many code cells as needed."
   ]
  },
  {
   "cell_type": "markdown",
   "metadata": {},
   "source": [
    "### Question 8\n",
    "\n",
    "*Use the model's softmax probabilities to visualize the **certainty** of its predictions, [`tf.nn.top_k`](https://www.tensorflow.org/versions/r0.12/api_docs/python/nn.html#top_k) could prove helpful here. Which predictions is the model certain of? Uncertain? If the model was incorrect in its initial prediction, does the correct prediction appear in the top k? (k should be 5 at most)*\n",
    "\n",
    "`tf.nn.top_k` will return the values and indices (class ids) of the top k predictions. So if k=3, for each sign, it'll return the 3 largest probabilities (out of a possible 43) and the correspoding class ids.\n",
    "\n",
    "Take this numpy array as an example:\n",
    "\n",
    "```\n",
    "# (5, 6) array\n",
    "a = np.array([[ 0.24879643,  0.07032244,  0.12641572,  0.34763842,  0.07893497,\n",
    "         0.12789202],\n",
    "       [ 0.28086119,  0.27569815,  0.08594638,  0.0178669 ,  0.18063401,\n",
    "         0.15899337],\n",
    "       [ 0.26076848,  0.23664738,  0.08020603,  0.07001922,  0.1134371 ,\n",
    "         0.23892179],\n",
    "       [ 0.11943333,  0.29198961,  0.02605103,  0.26234032,  0.1351348 ,\n",
    "         0.16505091],\n",
    "       [ 0.09561176,  0.34396535,  0.0643941 ,  0.16240774,  0.24206137,\n",
    "         0.09155967]])\n",
    "```\n",
    "\n",
    "Running it through `sess.run(tf.nn.top_k(tf.constant(a), k=3))` produces:\n",
    "\n",
    "```\n",
    "TopKV2(values=array([[ 0.34763842,  0.24879643,  0.12789202],\n",
    "       [ 0.28086119,  0.27569815,  0.18063401],\n",
    "       [ 0.26076848,  0.23892179,  0.23664738],\n",
    "       [ 0.29198961,  0.26234032,  0.16505091],\n",
    "       [ 0.34396535,  0.24206137,  0.16240774]]), indices=array([[3, 0, 5],\n",
    "       [0, 1, 4],\n",
    "       [0, 5, 1],\n",
    "       [1, 3, 5],\n",
    "       [1, 4, 3]], dtype=int32))\n",
    "```\n",
    "\n",
    "Looking just at the first row we get `[ 0.34763842,  0.24879643,  0.12789202]`, you can confirm these are the 3 largest probabilities in `a`. You'll also notice `[3, 0, 5]` are the corresponding indices."
   ]
  },
  {
   "cell_type": "markdown",
   "metadata": {},
   "source": [
    "**Answer:**"
   ]
  },
  {
   "cell_type": "markdown",
   "metadata": {},
   "source": [
    "> **Note**: Once you have completed all of the code implementations and successfully answered each question above, you may finalize your work by exporting the iPython Notebook as an HTML document. You can do this by using the menu above and navigating to  \\n\",\n",
    "    \"**File -> Download as -> HTML (.html)**. Include the finished document along with this notebook as your submission."
   ]
  },
  {
   "cell_type": "code",
   "execution_count": null,
   "metadata": {
    "collapsed": false
   },
   "outputs": [],
   "source": []
  },
  {
   "cell_type": "code",
   "execution_count": null,
   "metadata": {
    "collapsed": true
   },
   "outputs": [],
   "source": []
  }
 ],
 "metadata": {
  "anaconda-cloud": {},
  "kernelspec": {
   "display_name": "Python [conda root]",
   "language": "python",
   "name": "conda-root-py"
  },
  "language_info": {
   "codemirror_mode": {
    "name": "ipython",
    "version": 3
   },
   "file_extension": ".py",
   "mimetype": "text/x-python",
   "name": "python",
   "nbconvert_exporter": "python",
   "pygments_lexer": "ipython3",
   "version": "3.5.2"
  }
 },
 "nbformat": 4,
 "nbformat_minor": 1
}
