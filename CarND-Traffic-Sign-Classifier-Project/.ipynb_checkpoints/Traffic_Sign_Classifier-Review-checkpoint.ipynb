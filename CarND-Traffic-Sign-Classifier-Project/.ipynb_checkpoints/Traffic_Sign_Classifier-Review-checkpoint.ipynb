{
 "cells": [
  {
   "cell_type": "markdown",
   "metadata": {},
   "source": [
    "# Self-Driving Car Engineer Nanodegree\n",
    "\n",
    "## Deep Learning\n",
    "\n",
    "## Project: Build a Traffic Sign Recognition Classifier\n",
    "\n",
    "In this notebook, a template is provided for you to implement your functionality in stages which is required to successfully complete this project. If additional code is required that cannot be included in the notebook, be sure that the Python code is successfully imported and included in your submission, if necessary. Sections that begin with **'Implementation'** in the header indicate where you should begin your implementation for your project. Note that some sections of implementation are optional, and will be marked with **'Optional'** in the header.\n",
    "\n",
    "In addition to implementing code, there will be questions that you must answer which relate to the project and your implementation. Each section where you will answer a question is preceded by a **'Question'** header. Carefully read each question and provide thorough answers in the following text boxes that begin with **'Answer:'**. Your project submission will be evaluated based on your answers to each of the questions and the implementation you provide.\n",
    "\n",
    ">**Note:** Code and Markdown cells can be executed using the **Shift + Enter** keyboard shortcut. In addition, Markdown cells can be edited by typically double-clicking the cell to enter edit mode."
   ]
  },
  {
   "cell_type": "markdown",
   "metadata": {},
   "source": [
    "---\n",
    "## Step 0: Load The Data"
   ]
  },
  {
   "cell_type": "code",
   "execution_count": 1,
   "metadata": {
    "collapsed": false
   },
   "outputs": [],
   "source": [
    "# Load pickled data\n",
    "import pickle\n",
    "import numpy as np\n",
    "\n",
    "# TODO: Fill this in based on where you saved the training and testing data\n",
    "\n",
    "training_file = \"train.p\"\n",
    "testing_file = \"test.p\"\n",
    "with open(training_file, mode='rb') as f:\n",
    "    train = pickle.load(f)\n",
    "with open(testing_file, mode='rb') as f:\n",
    "    test = pickle.load(f)\n",
    "\n",
    "X_train_old, y_train = train['features'], train['labels']\n",
    "# X_test, y_test = test['features'], test['labels']\n",
    "X_validation_old, y_validation = validation['features'], validation['labels']\n"
   ]
  },
  {
   "cell_type": "code",
   "execution_count": 2,
   "metadata": {
    "collapsed": false
   },
   "outputs": [
    {
     "data": {
      "text/plain": [
       "(86810, 32, 32, 1)"
      ]
     },
     "execution_count": 2,
     "metadata": {},
     "output_type": "execute_result"
    }
   ],
   "source": [
    "import random\n",
    "from PIL import Image\n",
    "import pickle\n",
    "import numpy as np\n",
    "import cv2\n",
    "import matplotlib.pyplot as plt\n",
    "# Visualizations will be shown in the notebook.\n",
    "%matplotlib inline\n",
    "\n",
    "\"\"\"\n",
    "Creates a validation and test set from the given data.\n",
    "You can specify the gray scale.\n",
    "\n",
    "Note: Samples are stratified samples.\n",
    "\n",
    "\"\"\"\n",
    "def create_validation_dataset(X,y,gray=False,prob = 0.3):\n",
    "    X_validation, X_test, y_validation, y_test = train_test_split(X, y, train_size=prob,stratify=y,random_state=59)\n",
    "    if gray:\n",
    "        GRAY = \"_gray\"\n",
    "    else:\n",
    "        GRAY = \"\"\n",
    "        \n",
    "    new_training_file = \"test_final\"+GRAY+\".p\"\n",
    "    new_train = {}\n",
    "    if not gray:\n",
    "        new_train['features'] = np.asarray(X_test)\n",
    "    else:\n",
    "        new_train['features'] = np.asarray(gray_scale(X_test) )\n",
    "    new_train['labels'] = y_test\n",
    "    pickle.dump( new_train, open( new_training_file, \"wb\" ) )\n",
    "    \n",
    "    new_training_file = \"validation\"+GRAY+\".p\"\n",
    "    new_train = {}\n",
    "    if not gray:\n",
    "        new_train['features'] = np.asarray(X_validation)\n",
    "    else:\n",
    "        new_train['features'] = np.asarray(gray_scale(X_validation) )\n",
    "    new_train['labels'] = y_validation\n",
    "    pickle.dump( new_train, open( new_training_file, \"wb\" ) )\n",
    "    \n",
    "\n",
    "\"\"\"\n",
    "Converts the array of images into gray scale images\n",
    "\n",
    "\"\"\"\n",
    "def gray_scale(X):\n",
    "    X_gray = []\n",
    "    for each in X:\n",
    "        #print(np.shape(each))\n",
    "        gray_image = np.asarray(cv2.cvtColor(each, cv2.COLOR_RGB2GRAY))\n",
    "        #print(type(gray_image))\n",
    "        X_gray.append(np.expand_dims(gray_image,axis=2))\n",
    "    #plt.imshow(X_gray[0])\n",
    "    return X_gray\n",
    "\n",
    "\n",
    "# Rotation of image \n",
    "\"\"\"\n",
    "Rotate the image clockwise and counter clock wise. [-6,-4,-2,0,2,4,6]\n",
    "6 images per image.\n",
    "\n",
    "\"\"\"\n",
    "def image_rotation(X,y):\n",
    "    rot_X = []\n",
    "    rot_y = []\n",
    "    for ex,ey in zip(X,y):\n",
    "        img = Image.fromarray(ex)\n",
    "        \n",
    "        i = random.randrange(-10,10)\n",
    "        im2 = img.convert('RGBA')\n",
    "        new_image = im2.rotate(i)\n",
    "        # a white image same size as rotated image\n",
    "        blank_img = Image.new('RGBA', (32,32), (255,)*4)\n",
    "        # create a composite image using the alpha layer of rot as a mask\n",
    "        out = Image.composite(new_image, blank_img, new_image)\n",
    "        out.convert('RGB')\n",
    "        rot_X.append(np.asarray(out))\n",
    "        rot_y.append(ey)\n",
    "    return rot_X,rot_y\n",
    "\"\"\"\n",
    "Blur the image with a kernel of 5x5\n",
    "\n",
    "\"\"\"\n",
    "def image_blur(X,y,kernel_size=5):\n",
    "    blur_X =[]\n",
    "    blur_y = []\n",
    "    for ex,ey in zip(X,y):\n",
    "        #kernel = np.ones((kernel_size,kernel_size),np.float32)/25\n",
    "        blr_img = cv2.GaussianBlur(ex,(kernel_size,kernel_size),0)\n",
    "        #blr_img = cv2.filter2D(ex,-1,kernel)\n",
    "        blur_X.append(blr_img)\n",
    "        blur_y.append(ey)\n",
    "    return blur_X,blur_y\n",
    "\n",
    "def noisy_data(X,y):\n",
    "    row,col,ch = np.shape(X[0])\n",
    "    noisy_X = []\n",
    "    noisy_y = []\n",
    "    for ex,ey in zip(X,y):\n",
    "        noisy_image = np.asarray(\n",
    "                        np.random.uniform(\n",
    "                        -5,5,(row,col,ch))\n",
    "                    ,dtype=np.uint8)+ex\n",
    "               \n",
    "        noisy_X.append(noisy_image)\n",
    "        noisy_y.append(ey)\n",
    "    return noisy_X,noisy_y\n",
    "\n",
    "\"\"\"\n",
    "Contrast Increase using HSV values.\n",
    "\"\"\"\n",
    "def contrast_increase_data(X,y,value=5):\n",
    "    row,col,ch = np.shape(X[0])\n",
    "    contra_X = []\n",
    "    contra_y = []\n",
    "    for ex,ey in zip(X,y):\n",
    "        #contra_image = np.array(cv2.cvtColor(ex,cv2.COLOR_RGB2YUV),dtype=np.float32)\n",
    "        \n",
    "        im2 = cv2.cvtColor(ex, cv2.COLOR_RGB2GRAY)\n",
    "        clahe = cv2.createCLAHE(clipLimit=2.0, tileGridSize=(8,8))\n",
    "        X_ = clahe.apply(im2)        \n",
    "               \n",
    "        contra_X.append(X_)\n",
    "        contra_y.append(ey)\n",
    "    return contra_X,contra_y\n",
    "\n",
    "\n",
    "def transform_data(X,y,count=1000):\n",
    "    ang_range = 20\n",
    "    trans_range = 10\n",
    "    shear_range = 5\n",
    "    X_new = []\n",
    "    y_new = []\n",
    "    for ex,ey in zip(X,y):\n",
    "        ang_rot = np.random.uniform(ang_range)-ang_range/2\n",
    "        rows,cols,ch = np.shape(ex)    \n",
    "        Rot_M = cv2.getRotationMatrix2D((cols/2,rows/2),ang_rot,1)\n",
    "        \n",
    "        tr_x = trans_range*np.random.uniform()-trans_range/2\n",
    "        tr_y = trans_range*np.random.uniform()-trans_range/2\n",
    "        Trans_M = np.float32([[1,0,tr_x],[0,1,tr_y]])\n",
    "\n",
    "        pts1 = np.float32([[5,5],[20,5],[5,20]])\n",
    "\n",
    "        pt1 = 5+shear_range*np.random.uniform()-shear_range/2\n",
    "        pt2 = 20+shear_range*np.random.uniform()-shear_range/2\n",
    "        pts2 = np.float32([[pt1,5],[pt2,pt1],[5,pt2]])\n",
    "\n",
    "        shear_M = cv2.getAffineTransform(pts1,pts2)\n",
    "        img = cv2.warpAffine(ex,Rot_M,(cols,rows))\n",
    "        img = cv2.warpAffine(img,Trans_M,(cols,rows))\n",
    "        img = cv2.warpAffine(img,shear_M,(cols,rows))\n",
    "        X_new.append(img)\n",
    "        y_new.append(ey)\n",
    "    return X_new,y_new"
   ]
  },
  {
   "cell_type": "code",
   "execution_count": 3,
   "metadata": {
    "collapsed": false
   },
   "outputs": [],
   "source": [
    "from sklearn.preprocessing import normalize\n",
    "\n",
    "\n",
    "X_new = X_train_old#.astype(float)\n",
    "X_new = X_new.astype(float)\n",
    "m = np.mean(X_train_old)\n",
    "st = np.std(X_train_old)\n",
    "X_new-=m\n",
    "X_train = X_new /255.0\n",
    "\n",
    "X_val = X_validation_old#.astype(float)\n",
    "X_val = X_val.astype(float)\n",
    "X_val-=m\n",
    "X_validation = X_val /255.0\n",
    "\n",
    "# X_test = X_test#.astype(float)\n",
    "# X_test = X_test.astype(float)\n",
    "# X_test-=128.0\n",
    "# X_test = X_test /255.0\n",
    "\n",
    "#print(X_train_new[0][0][0])\n",
    "#print(type(X_train_new))\n",
    "#print(X_train[0].astype(np.float32))"
   ]
  },
  {
   "cell_type": "code",
   "execution_count": 4,
   "metadata": {
    "collapsed": false
   },
   "outputs": [
    {
     "data": {
      "text/plain": [
       "0.5859375"
      ]
     },
     "execution_count": 4,
     "metadata": {},
     "output_type": "execute_result"
    }
   ],
   "source": [
    "(203.-128.0)/128"
   ]
  },
  {
   "cell_type": "markdown",
   "metadata": {},
   "source": [
    "---\n",
    "\n",
    "## Step 1: Dataset Summary & Exploration\n",
    "\n",
    "The pickled data is a dictionary with 4 key/value pairs:\n",
    "\n",
    "- `'features'` is a 4D array containing raw pixel data of the traffic sign images, (num examples, width, height, channels).\n",
    "- `'labels'` is a 2D array containing the label/class id of the traffic sign. The file `signnames.csv` contains id -> name mappings for each id.\n",
    "- `'sizes'` is a list containing tuples, (width, height) representing the the original width and height the image.\n",
    "- `'coords'` is a list containing tuples, (x1, y1, x2, y2) representing coordinates of a bounding box around the sign in the image. **THESE COORDINATES ASSUME THE ORIGINAL IMAGE. THE PICKLED DATA CONTAINS RESIZED VERSIONS (32 by 32) OF THESE IMAGES**\n",
    "\n",
    "Complete the basic data summary below."
   ]
  },
  {
   "cell_type": "code",
   "execution_count": 5,
   "metadata": {
    "collapsed": false
   },
   "outputs": [
    {
     "name": "stdout",
     "output_type": "stream",
     "text": [
      "Number of training examples = 86810\n",
      "Number of testing examples = 4168\n",
      "Image data shape = (32, 32, 1)\n",
      "Number of classes = 43\n"
     ]
    }
   ],
   "source": [
    "### Replace each question mark with the appropriate value.\n",
    "import numpy as np\n",
    "\n",
    "# TODO: Number of training examples\n",
    "n_train = len(X_train)\n",
    "\n",
    "# TODO: Number of testing examples.\n",
    "n_test = len(X_val)\n",
    "\n",
    "# TODO: What's the shape of an traffic sign image?\n",
    "image_shape = np.shape(X_train[0])\n",
    "\n",
    "# TODO: How many unique classes/labels there are in the dataset.\n",
    "n_classes = len(set(y_train))\n",
    "\n",
    "print(\"Number of training examples =\", n_train)\n",
    "print(\"Number of testing examples =\", n_test)\n",
    "print(\"Image data shape =\", image_shape)\n",
    "print(\"Number of classes =\", n_classes)"
   ]
  },
  {
   "cell_type": "markdown",
   "metadata": {},
   "source": [
    "Visualize the German Traffic Signs Dataset using the pickled file(s). This is open ended, suggestions include: plotting traffic sign images, plotting the count of each sign, etc.\n",
    "\n",
    "The [Matplotlib](http://matplotlib.org/) [examples](http://matplotlib.org/examples/index.html) and [gallery](http://matplotlib.org/gallery.html) pages are a great resource for doing visualizations in Python.\n",
    "\n",
    "**NOTE:** It's recommended you start with something simple first. If you wish to do more, come back to it after you've completed the rest of the sections."
   ]
  },
  {
   "cell_type": "code",
   "execution_count": 6,
   "metadata": {
    "collapsed": false
   },
   "outputs": [
    {
     "name": "stderr",
     "output_type": "stream",
     "text": [
      "/opt/conda/lib/python3.5/site-packages/matplotlib/font_manager.py:273: UserWarning: Matplotlib is building the font cache using fc-list. This may take a moment.\n",
      "  warnings.warn('Matplotlib is building the font cache using fc-list. This may take a moment.')\n",
      "/opt/conda/lib/python3.5/site-packages/matplotlib/font_manager.py:273: UserWarning: Matplotlib is building the font cache using fc-list. This may take a moment.\n",
      "  warnings.warn('Matplotlib is building the font cache using fc-list. This may take a moment.')\n"
     ]
    }
   ],
   "source": [
    "### Data exploration visualization goes here.\n",
    "### Feel free to use as many code cells as needed.\n",
    "import matplotlib.pyplot as plt\n",
    "# Visualizations will be shown in the notebook.\n",
    "%matplotlib inline"
   ]
  },
  {
   "cell_type": "markdown",
   "metadata": {},
   "source": [
    "----\n",
    "\n",
    "## Step 2: Design and Test a Model Architecture\n",
    "\n",
    "Design and implement a deep learning model that learns to recognize traffic signs. Train and test your model on the [German Traffic Sign Dataset](http://benchmark.ini.rub.de/?section=gtsrb&subsection=dataset).\n",
    "\n",
    "There are various aspects to consider when thinking about this problem:\n",
    "\n",
    "- Neural network architecture\n",
    "- Play around preprocessing techniques (normalization, rgb to grayscale, etc)\n",
    "- Number of examples per label (some have more than others).\n",
    "- Generate fake data.\n",
    "\n",
    "Here is an example of a [published baseline model on this problem](http://yann.lecun.com/exdb/publis/pdf/sermanet-ijcnn-11.pdf). It's not required to be familiar with the approach used in the paper but, it's good practice to try to read papers like these.\n",
    "\n",
    "**NOTE:** The LeNet-5 implementation shown in the [classroom](https://classroom.udacity.com/nanodegrees/nd013/parts/fbf77062-5703-404e-b60c-95b78b2f3f9e/modules/6df7ae49-c61c-4bb2-a23e-6527e69209ec/lessons/601ae704-1035-4287-8b11-e2c2716217ad/concepts/d4aca031-508f-4e0b-b493-e7b706120f81) at the end of the CNN lesson is a solid starting point. You'll have to change the number of classes and possibly the preprocessing, but aside from that it's plug and play!"
   ]
  },
  {
   "cell_type": "markdown",
   "metadata": {},
   "source": [
    "### Implementation\n",
    "\n",
    "Use the code cell (or multiple code cells, if necessary) to implement the first step of your project. Once you have completed your implementation and are satisfied with the results, be sure to thoroughly answer the questions that follow."
   ]
  },
  {
   "cell_type": "markdown",
   "metadata": {},
   "source": [
    "#### LENet Code for traffic Sign classifier"
   ]
  },
  {
   "cell_type": "code",
   "execution_count": 7,
   "metadata": {
    "collapsed": false
   },
   "outputs": [],
   "source": [
    "### Preprocess the data here.\n",
    "### Feel free to use as many code cells as needed.\n",
    "\n",
    "from tensorflow.contrib.layers import flatten\n",
    "import tensorflow as tf\n",
    "\n",
    "\n",
    "def conv2d(x,weight,bias,strides=1,padding='SAME'):\n",
    "    layer = tf.nn.conv2d(x,weight,[1,strides,strides,1],padding=padding)\n",
    "    layer = tf.nn.bias_add(layer,bias)\n",
    "    layer = tf.nn.relu(layer)\n",
    "    return layer\n",
    "\n",
    "def maxpool(x,k=2,padding='SAME'):\n",
    "    kernel_size = [1,k,k,1]\n",
    "    return tf.nn.max_pool(x,ksize=kernel_size,strides=[1,k,k,1],padding=padding)\n",
    "    \n",
    " "
   ]
  },
  {
   "cell_type": "code",
   "execution_count": 8,
   "metadata": {
    "collapsed": false
   },
   "outputs": [],
   "source": []
  },
  {
   "cell_type": "code",
   "execution_count": 9,
   "metadata": {
    "collapsed": true
   },
   "outputs": [],
   "source": [
    "def fully_connected(in_tensor,layers,keep_prob):\n",
    "    mu = 0\n",
    "    sigma = 0.1\n",
    "    in_dim = np.product(in_tensor.get_shape().as_list()[1:])\n",
    "    tensor_flatten = flatten(in_tensor)\n",
    "    print(in_dim)\n",
    "    for each in layers:\n",
    "        weights = tf.Variable(tf.random_normal([in_dim, each],mu,sigma,dtype=tf.float32))\n",
    "        bias =  tf.Variable(tf.zeros(each))\n",
    "\n",
    "        fc1_drop = tf.nn.dropout(tensor_flatten, keep_prob)    \n",
    "        fc2 = tf.add(\n",
    "        tf.matmul(fc1_drop, weights),\n",
    "        bias)\n",
    "        # TODO: Activation.\n",
    "        tensor_flatten = tf.nn.tanh(fc2)\n",
    "        in_dim = each\n",
    "        print(in_dim)\n",
    "    \n",
    "    return tensor_flatten\n",
    "import tensorflow.contrib.slim as slim\n",
    "      \n",
    "\n",
    "def LeNet_multi_batchnorm(x,keep_prob):    \n",
    "    # Hyperparameters\n",
    "    mu = 0\n",
    "    sigma = 0.1\n",
    "    \n",
    "    input_layer = slim.conv2d(x,48,[3,3],activation_fn=None)\n",
    "    \n",
    "    input_layer_1 = slim.batch_norm(input_layer,activation_fn=None)\n",
    "    input_layer_1 = tf.nn.relu(input_layer_1)\n",
    "    layer_1 = maxpool(input_layer_1,k=2)\n",
    "    print(layer_1.get_shape())\n",
    "    \n",
    "    input_layer_2 = slim.conv2d(layer_1,64,[3,3],activation_fn=None)\n",
    "    input_layer_2 = slim.batch_norm(input_layer_2,activation_fn=None)\n",
    "    input_layer_2 = tf.nn.relu(input_layer_2)\n",
    "    layer_2 = maxpool(input_layer_2,k=2)\n",
    "    layer_2 = tf.nn.dropout(layer_2, keep_prob)\n",
    "    print(layer_2.get_shape())\n",
    "    \n",
    "    input_layer_3 = slim.conv2d(layer_2,128,[3,3],activation_fn=None)\n",
    "    input_layer_3 = slim.batch_norm(input_layer_3,activation_fn=None)\n",
    "    input_layer_3 = tf.nn.relu(input_layer_3)\n",
    "    layer_3 = maxpool(input_layer_3,k=2)\n",
    "    layer_3 = tf.nn.dropout(layer_3, keep_prob)\n",
    "    print(layer_3.get_shape())\n",
    "    \n",
    "    \n",
    "    fc1 = flatten(layer_3)\n",
    "    fc1 = tf.concat(1,(fc1,flatten(layer_1)))\n",
    "    \n",
    "    \n",
    "    logits = fully_connected(fc1,[512,512,43],keep_prob)\n",
    "    return logits"
   ]
  },
  {
   "cell_type": "code",
   "execution_count": 10,
   "metadata": {
    "collapsed": false
   },
   "outputs": [],
   "source": []
  },
  {
   "cell_type": "code",
   "execution_count": null,
   "metadata": {
    "collapsed": true
   },
   "outputs": [],
   "source": [
    "  "
   ]
  },
  {
   "cell_type": "code",
   "execution_count": 11,
   "metadata": {
    "collapsed": false
   },
   "outputs": [],
   "source": [
    "INPUT_DEPTH = 1\n",
    "tf.reset_default_graph()\n",
    "x = tf.placeholder(tf.float32, (None, 32, 32, INPUT_DEPTH))\n",
    "y = tf.placeholder(tf.int32, (None))\n",
    "keep_prob = tf.placeholder(tf.float32)\n",
    "one_hot_y = tf.one_hot(y, 43)"
   ]
  },
  {
   "cell_type": "code",
   "execution_count": 12,
   "metadata": {
    "collapsed": true
   },
   "outputs": [],
   "source": [
    "EPOCHS = 200\n",
    "BATCH_SIZE = 256"
   ]
  },
  {
   "cell_type": "code",
   "execution_count": 13,
   "metadata": {
    "collapsed": false
   },
   "outputs": [],
   "source": [
    "import tensorflow as tf\n",
    "from sklearn.utils import shuffle\n",
    "from sklearn.model_selection import train_test_split\n",
    "\n",
    "#X_test_1,X_validation, y_test_1, y_validation = train_test_split(X_test, y_test, test_size=0.33, random_state=42)\n"
   ]
  },
  {
   "cell_type": "code",
   "execution_count": 14,
   "metadata": {
    "collapsed": false
   },
   "outputs": [
    {
     "name": "stdout",
     "output_type": "stream",
     "text": [
      "(?, 16, 16, 48)\n",
      "(?, 8, 8, 64)\n",
      "(?, 4, 4, 128)\n",
      "2048\n",
      "512\n",
      "512\n",
      "43\n"
     ]
    }
   ],
   "source": [
    "rate = 0.001\n",
    "\n",
    "logits = LeNet_multi_batchnorm(x,keep_prob)\n",
    "cross_entropy = tf.nn.softmax_cross_entropy_with_logits(logits, one_hot_y)\n",
    "loss_operation = tf.reduce_mean(cross_entropy)\n",
    "optimizer = tf.train.AdamOptimizer(learning_rate = rate)\n",
    "# Gradient clipping\n",
    "gvs = optimizer.compute_gradients(loss_operation)\n",
    "capped_gvs = [(tf.clip_by_value(grad, -1., 1.), var) for grad, var in gvs]\n",
    "optimizer.apply_gradients(capped_gvs)\n",
    "\n",
    "training_operation = optimizer.minimize(loss_operation)"
   ]
  },
  {
   "cell_type": "code",
   "execution_count": 15,
   "metadata": {
    "collapsed": false
   },
   "outputs": [],
   "source": [
    "correct_prediction = tf.equal(tf.argmax(logits, 1), tf.argmax(one_hot_y, 1))\n",
    "accuracy_operation = tf.reduce_mean(tf.cast(correct_prediction, tf.float32))\n",
    "saver = tf.train.Saver()\n",
    "\n",
    "def evaluate(X_data, y_data):\n",
    "    num_examples = len(X_data)\n",
    "    total_accuracy = 0\n",
    "    sess = tf.get_default_session()\n",
    "    for offset in range(0, num_examples, BATCH_SIZE):\n",
    "        batch_x, batch_y = X_data[offset:offset+BATCH_SIZE], y_data[offset:offset+BATCH_SIZE]\n",
    "        accuracy = sess.run(accuracy_operation, feed_dict={x: batch_x, y: batch_y,keep_prob:1.0})\n",
    "        total_accuracy += (accuracy * len(batch_x))\n",
    "    return total_accuracy / num_examples"
   ]
  },
  {
   "cell_type": "code",
   "execution_count": 25,
   "metadata": {
    "collapsed": false,
    "scrolled": false
   },
   "outputs": [
    {
     "name": "stdout",
     "output_type": "stream",
     "text": [
      "WARNING:tensorflow:From <ipython-input-25-e4909f512afb>:10 in <module>.: initialize_all_variables (from tensorflow.python.ops.variables) is deprecated and will be removed after 2017-03-02.\n",
      "Instructions for updating:\n",
      "Use `tf.global_variables_initializer` instead.\n",
      "Training...\n",
      "\n",
      "Total 86810\n",
      "EPOCH 1 ...\n",
      "Training Accuracy = 0.285\n",
      "Cross entropy = 2.7479\n",
      "Validation Accuracy = 0.601\n",
      "Model saved\n",
      "EPOCH 2 ...\n",
      "Training Accuracy = 0.629\n",
      "Cross entropy = 2.2884\n",
      "Validation Accuracy = 0.748\n",
      "EPOCH 3 ...\n",
      "Training Accuracy = 0.770\n",
      "Cross entropy = 2.1460\n",
      "Validation Accuracy = 0.842\n",
      "EPOCH 4 ...\n",
      "Training Accuracy = 0.841\n",
      "Cross entropy = 2.0682\n",
      "Validation Accuracy = 0.840\n",
      "EPOCH 5 ...\n",
      "Training Accuracy = 0.881\n",
      "Cross entropy = 2.0244\n",
      "Validation Accuracy = 0.888\n",
      "EPOCH 6 ...\n",
      "Training Accuracy = 0.903\n",
      "Cross entropy = 1.9950\n",
      "Validation Accuracy = 0.890\n",
      "EPOCH 7 ...\n",
      "Training Accuracy = 0.921\n",
      "Cross entropy = 1.9758\n",
      "Validation Accuracy = 0.919\n",
      "EPOCH 8 ...\n",
      "Training Accuracy = 0.929\n",
      "Cross entropy = 1.9628\n",
      "Validation Accuracy = 0.910\n",
      "EPOCH 9 ...\n",
      "Training Accuracy = 0.940\n",
      "Cross entropy = 1.9500\n",
      "Validation Accuracy = 0.901\n",
      "EPOCH 10 ...\n",
      "Training Accuracy = 0.948\n",
      "Cross entropy = 1.9432\n",
      "Validation Accuracy = 0.899\n",
      "EPOCH 11 ...\n",
      "Training Accuracy = 0.951\n",
      "Cross entropy = 1.9386\n",
      "Validation Accuracy = 0.913\n",
      "Model saved\n",
      "EPOCH 12 ...\n",
      "Training Accuracy = 0.953\n",
      "Cross entropy = 1.9329\n",
      "Validation Accuracy = 0.907\n",
      "EPOCH 13 ...\n",
      "Training Accuracy = 0.958\n",
      "Cross entropy = 1.9321\n",
      "Validation Accuracy = 0.930\n",
      "EPOCH 14 ...\n",
      "Training Accuracy = 0.966\n",
      "Cross entropy = 1.9271\n",
      "Validation Accuracy = 0.929\n",
      "EPOCH 15 ...\n",
      "Training Accuracy = 0.971\n",
      "Cross entropy = 1.9236\n",
      "Validation Accuracy = 0.934\n",
      "EPOCH 16 ...\n",
      "Training Accuracy = 0.972\n",
      "Cross entropy = 1.9207\n",
      "Validation Accuracy = 0.932\n",
      "EPOCH 17 ...\n",
      "Training Accuracy = 0.978\n",
      "Cross entropy = 1.9189\n",
      "Validation Accuracy = 0.944\n",
      "EPOCH 18 ...\n",
      "Training Accuracy = 0.978\n",
      "Cross entropy = 1.9175\n",
      "Validation Accuracy = 0.945\n",
      "EPOCH 19 ...\n",
      "Training Accuracy = 0.979\n",
      "Cross entropy = 1.9147\n",
      "Validation Accuracy = 0.943\n",
      "EPOCH 20 ...\n",
      "Training Accuracy = 0.981\n",
      "Cross entropy = 1.9144\n",
      "Validation Accuracy = 0.939\n",
      "EPOCH 21 ...\n",
      "Training Accuracy = 0.987\n",
      "Cross entropy = 1.9125\n",
      "Validation Accuracy = 0.953\n",
      "Model saved\n",
      "EPOCH 22 ...\n",
      "Training Accuracy = 0.989\n",
      "Cross entropy = 1.9122\n",
      "Validation Accuracy = 0.961\n",
      "EPOCH 23 ...\n",
      "Training Accuracy = 0.992\n",
      "Cross entropy = 1.9102\n",
      "Validation Accuracy = 0.966\n",
      "EPOCH 24 ...\n",
      "Training Accuracy = 0.993\n",
      "Cross entropy = 1.9098\n",
      "Validation Accuracy = 0.969\n",
      "EPOCH 25 ...\n",
      "Training Accuracy = 0.994\n",
      "Cross entropy = 1.9083\n",
      "Validation Accuracy = 0.962\n",
      "EPOCH 26 ...\n",
      "Training Accuracy = 0.995\n",
      "Cross entropy = 1.9071\n",
      "Validation Accuracy = 0.965\n",
      "EPOCH 27 ...\n",
      "Training Accuracy = 0.995\n",
      "Cross entropy = 1.9077\n",
      "Validation Accuracy = 0.966\n",
      "EPOCH 28 ...\n",
      "Training Accuracy = 0.996\n",
      "Cross entropy = 1.9062\n",
      "Validation Accuracy = 0.966\n",
      "EPOCH 29 ...\n",
      "Training Accuracy = 0.996\n",
      "Cross entropy = 1.9060\n",
      "Validation Accuracy = 0.965\n",
      "EPOCH 30 ...\n",
      "Training Accuracy = 0.997\n",
      "Cross entropy = 1.9048\n",
      "Validation Accuracy = 0.962\n",
      "EPOCH 31 ...\n",
      "Training Accuracy = 0.995\n",
      "Cross entropy = 1.9074\n",
      "Validation Accuracy = 0.971\n",
      "Model saved\n",
      "EPOCH 32 ...\n",
      "Training Accuracy = 0.997\n",
      "Cross entropy = 1.9048\n",
      "Validation Accuracy = 0.964\n",
      "EPOCH 33 ...\n",
      "Training Accuracy = 0.998\n",
      "Cross entropy = 1.9043\n",
      "Validation Accuracy = 0.969\n",
      "EPOCH 34 ...\n",
      "Training Accuracy = 0.997\n",
      "Cross entropy = 1.9047\n",
      "Validation Accuracy = 0.968\n",
      "EPOCH 35 ...\n",
      "Training Accuracy = 0.998\n",
      "Cross entropy = 1.9036\n",
      "Validation Accuracy = 0.963\n",
      "EPOCH 36 ...\n",
      "Training Accuracy = 0.998\n",
      "Cross entropy = 1.9038\n",
      "Validation Accuracy = 0.969\n",
      "EPOCH 37 ...\n",
      "Training Accuracy = 0.998\n",
      "Cross entropy = 1.9032\n",
      "Validation Accuracy = 0.966\n",
      "EPOCH 38 ...\n",
      "Training Accuracy = 0.998\n",
      "Cross entropy = 1.9033\n",
      "Validation Accuracy = 0.970\n",
      "EPOCH 39 ...\n",
      "Training Accuracy = 0.998\n",
      "Cross entropy = 1.9031\n",
      "Validation Accuracy = 0.974\n",
      "EPOCH 40 ...\n",
      "Training Accuracy = 0.998\n",
      "Cross entropy = 1.9028\n",
      "Validation Accuracy = 0.973\n",
      "EPOCH 41 ...\n",
      "Training Accuracy = 0.998\n",
      "Cross entropy = 1.9029\n",
      "Validation Accuracy = 0.971\n",
      "Model saved\n",
      "EPOCH 42 ...\n",
      "Training Accuracy = 0.998\n",
      "Cross entropy = 1.9028\n",
      "Validation Accuracy = 0.966\n",
      "EPOCH 43 ...\n",
      "Training Accuracy = 0.998\n",
      "Cross entropy = 1.9030\n",
      "Validation Accuracy = 0.971\n",
      "EPOCH 44 ...\n",
      "Training Accuracy = 0.999\n",
      "Cross entropy = 1.9025\n",
      "Validation Accuracy = 0.973\n",
      "EPOCH 45 ...\n",
      "Training Accuracy = 0.999\n",
      "Cross entropy = 1.9023\n",
      "Validation Accuracy = 0.968\n",
      "EPOCH 46 ...\n",
      "Training Accuracy = 0.999\n",
      "Cross entropy = 1.9021\n",
      "Validation Accuracy = 0.972\n",
      "EPOCH 47 ...\n",
      "Training Accuracy = 0.998\n",
      "Cross entropy = 1.9023\n",
      "Validation Accuracy = 0.968\n",
      "EPOCH 48 ...\n",
      "Training Accuracy = 0.998\n",
      "Cross entropy = 1.9028\n",
      "Validation Accuracy = 0.970\n",
      "EPOCH 49 ...\n",
      "Training Accuracy = 0.999\n",
      "Cross entropy = 1.9020\n",
      "Validation Accuracy = 0.964\n",
      "EPOCH 50 ...\n",
      "Training Accuracy = 0.999\n",
      "Cross entropy = 1.9016\n",
      "Validation Accuracy = 0.967\n",
      "EPOCH 51 ...\n",
      "Training Accuracy = 0.999\n",
      "Cross entropy = 1.9016\n",
      "Validation Accuracy = 0.966\n",
      "Model saved\n",
      "EPOCH 52 ...\n",
      "Training Accuracy = 0.999\n",
      "Cross entropy = 1.9020\n",
      "Validation Accuracy = 0.964\n",
      "EPOCH 53 ...\n",
      "Training Accuracy = 0.999\n",
      "Cross entropy = 1.9020\n",
      "Validation Accuracy = 0.963\n",
      "EPOCH 54 ...\n",
      "Training Accuracy = 0.999\n",
      "Cross entropy = 1.9016\n",
      "Validation Accuracy = 0.965\n",
      "EPOCH 55 ...\n",
      "Training Accuracy = 0.999\n",
      "Cross entropy = 1.9017\n",
      "Validation Accuracy = 0.971\n",
      "EPOCH 56 ...\n",
      "Training Accuracy = 0.999\n",
      "Cross entropy = 1.9013\n",
      "Validation Accuracy = 0.972\n",
      "EPOCH 57 ...\n",
      "Training Accuracy = 0.999\n",
      "Cross entropy = 1.9016\n",
      "Validation Accuracy = 0.969\n",
      "EPOCH 58 ...\n",
      "Training Accuracy = 0.999\n",
      "Cross entropy = 1.9015\n",
      "Validation Accuracy = 0.968\n",
      "EPOCH 59 ...\n",
      "Training Accuracy = 0.999\n",
      "Cross entropy = 1.9015\n",
      "Validation Accuracy = 0.968\n",
      "EPOCH 60 ...\n",
      "Training Accuracy = 0.999\n",
      "Cross entropy = 1.9014\n",
      "Validation Accuracy = 0.971\n",
      "EPOCH 61 ...\n",
      "Training Accuracy = 0.999\n",
      "Cross entropy = 1.9013\n",
      "Validation Accuracy = 0.969\n",
      "Model saved\n",
      "EPOCH 62 ...\n",
      "Training Accuracy = 0.999\n",
      "Cross entropy = 1.9013\n",
      "Validation Accuracy = 0.970\n"
     ]
    },
    {
     "ename": "KeyboardInterrupt",
     "evalue": "",
     "output_type": "error",
     "traceback": [
      "\u001b[0;31m---------------------------------------------------------------------------\u001b[0m",
      "\u001b[0;31mKeyboardInterrupt\u001b[0m                         Traceback (most recent call last)",
      "\u001b[0;32m<ipython-input-25-e4909f512afb>\u001b[0m in \u001b[0;36m<module>\u001b[0;34m()\u001b[0m\n\u001b[1;32m     37\u001b[0m \u001b[0;34m\u001b[0m\u001b[0m\n\u001b[1;32m     38\u001b[0m             \u001b[0mbatch_x\u001b[0m\u001b[0;34m,\u001b[0m \u001b[0mbatch_y\u001b[0m \u001b[0;34m=\u001b[0m \u001b[0mnp\u001b[0m\u001b[0;34m.\u001b[0m\u001b[0mcopy\u001b[0m\u001b[0;34m(\u001b[0m\u001b[0mX_train\u001b[0m\u001b[0;34m[\u001b[0m\u001b[0moffset\u001b[0m\u001b[0;34m:\u001b[0m\u001b[0mend\u001b[0m\u001b[0;34m]\u001b[0m\u001b[0;34m)\u001b[0m\u001b[0;34m,\u001b[0m \u001b[0mnp\u001b[0m\u001b[0;34m.\u001b[0m\u001b[0mcopy\u001b[0m\u001b[0;34m(\u001b[0m\u001b[0my_train\u001b[0m\u001b[0;34m[\u001b[0m\u001b[0moffset\u001b[0m\u001b[0;34m:\u001b[0m\u001b[0mend\u001b[0m\u001b[0;34m]\u001b[0m\u001b[0;34m)\u001b[0m\u001b[0;34m\u001b[0m\u001b[0m\n\u001b[0;32m---> 39\u001b[0;31m             \u001b[0msess\u001b[0m\u001b[0;34m.\u001b[0m\u001b[0mrun\u001b[0m\u001b[0;34m(\u001b[0m\u001b[0mtraining_operation\u001b[0m\u001b[0;34m,\u001b[0m \u001b[0mfeed_dict\u001b[0m\u001b[0;34m=\u001b[0m\u001b[0;34m{\u001b[0m\u001b[0mx\u001b[0m\u001b[0;34m:\u001b[0m \u001b[0mbatch_x\u001b[0m\u001b[0;34m,\u001b[0m \u001b[0my\u001b[0m\u001b[0;34m:\u001b[0m \u001b[0mbatch_y\u001b[0m\u001b[0;34m,\u001b[0m\u001b[0mkeep_prob\u001b[0m\u001b[0;34m:\u001b[0m\u001b[0;36m0.95\u001b[0m\u001b[0;34m}\u001b[0m\u001b[0;34m)\u001b[0m\u001b[0;34m\u001b[0m\u001b[0m\n\u001b[0m\u001b[1;32m     40\u001b[0m             \u001b[0mtraining_accuracy\u001b[0m \u001b[0;34m=\u001b[0m \u001b[0mevaluate\u001b[0m\u001b[0;34m(\u001b[0m\u001b[0mbatch_x\u001b[0m\u001b[0;34m,\u001b[0m \u001b[0mbatch_y\u001b[0m\u001b[0;34m)\u001b[0m\u001b[0;34m\u001b[0m\u001b[0m\n\u001b[1;32m     41\u001b[0m             \u001b[0mmean_cross_entropy\u001b[0m \u001b[0;34m=\u001b[0m \u001b[0msess\u001b[0m\u001b[0;34m.\u001b[0m\u001b[0mrun\u001b[0m\u001b[0;34m(\u001b[0m\u001b[0mloss_operation\u001b[0m\u001b[0;34m,\u001b[0m \u001b[0mfeed_dict\u001b[0m\u001b[0;34m=\u001b[0m\u001b[0;34m{\u001b[0m\u001b[0mx\u001b[0m\u001b[0;34m:\u001b[0m \u001b[0mbatch_x\u001b[0m\u001b[0;34m,\u001b[0m \u001b[0my\u001b[0m\u001b[0;34m:\u001b[0m \u001b[0mbatch_y\u001b[0m\u001b[0;34m,\u001b[0m\u001b[0mkeep_prob\u001b[0m\u001b[0;34m:\u001b[0m\u001b[0;36m1.0\u001b[0m\u001b[0;34m}\u001b[0m\u001b[0;34m)\u001b[0m\u001b[0;34m\u001b[0m\u001b[0m\n",
      "\u001b[0;32m/opt/conda/lib/python3.5/site-packages/tensorflow/python/client/session.py\u001b[0m in \u001b[0;36mrun\u001b[0;34m(self, fetches, feed_dict, options, run_metadata)\u001b[0m\n\u001b[1;32m    764\u001b[0m     \u001b[0;32mtry\u001b[0m\u001b[0;34m:\u001b[0m\u001b[0;34m\u001b[0m\u001b[0m\n\u001b[1;32m    765\u001b[0m       result = self._run(None, fetches, feed_dict, options_ptr,\n\u001b[0;32m--> 766\u001b[0;31m                          run_metadata_ptr)\n\u001b[0m\u001b[1;32m    767\u001b[0m       \u001b[0;32mif\u001b[0m \u001b[0mrun_metadata\u001b[0m\u001b[0;34m:\u001b[0m\u001b[0;34m\u001b[0m\u001b[0m\n\u001b[1;32m    768\u001b[0m         \u001b[0mproto_data\u001b[0m \u001b[0;34m=\u001b[0m \u001b[0mtf_session\u001b[0m\u001b[0;34m.\u001b[0m\u001b[0mTF_GetBuffer\u001b[0m\u001b[0;34m(\u001b[0m\u001b[0mrun_metadata_ptr\u001b[0m\u001b[0;34m)\u001b[0m\u001b[0;34m\u001b[0m\u001b[0m\n",
      "\u001b[0;32m/opt/conda/lib/python3.5/site-packages/tensorflow/python/client/session.py\u001b[0m in \u001b[0;36m_run\u001b[0;34m(self, handle, fetches, feed_dict, options, run_metadata)\u001b[0m\n\u001b[1;32m    962\u001b[0m     \u001b[0;32mif\u001b[0m \u001b[0mfinal_fetches\u001b[0m \u001b[0;32mor\u001b[0m \u001b[0mfinal_targets\u001b[0m\u001b[0;34m:\u001b[0m\u001b[0;34m\u001b[0m\u001b[0m\n\u001b[1;32m    963\u001b[0m       results = self._do_run(handle, final_targets, final_fetches,\n\u001b[0;32m--> 964\u001b[0;31m                              feed_dict_string, options, run_metadata)\n\u001b[0m\u001b[1;32m    965\u001b[0m     \u001b[0;32melse\u001b[0m\u001b[0;34m:\u001b[0m\u001b[0;34m\u001b[0m\u001b[0m\n\u001b[1;32m    966\u001b[0m       \u001b[0mresults\u001b[0m \u001b[0;34m=\u001b[0m \u001b[0;34m[\u001b[0m\u001b[0;34m]\u001b[0m\u001b[0;34m\u001b[0m\u001b[0m\n",
      "\u001b[0;32m/opt/conda/lib/python3.5/site-packages/tensorflow/python/client/session.py\u001b[0m in \u001b[0;36m_do_run\u001b[0;34m(self, handle, target_list, fetch_list, feed_dict, options, run_metadata)\u001b[0m\n\u001b[1;32m   1012\u001b[0m     \u001b[0;32mif\u001b[0m \u001b[0mhandle\u001b[0m \u001b[0;32mis\u001b[0m \u001b[0;32mNone\u001b[0m\u001b[0;34m:\u001b[0m\u001b[0;34m\u001b[0m\u001b[0m\n\u001b[1;32m   1013\u001b[0m       return self._do_call(_run_fn, self._session, feed_dict, fetch_list,\n\u001b[0;32m-> 1014\u001b[0;31m                            target_list, options, run_metadata)\n\u001b[0m\u001b[1;32m   1015\u001b[0m     \u001b[0;32melse\u001b[0m\u001b[0;34m:\u001b[0m\u001b[0;34m\u001b[0m\u001b[0m\n\u001b[1;32m   1016\u001b[0m       return self._do_call(_prun_fn, self._session, handle, feed_dict,\n",
      "\u001b[0;32m/opt/conda/lib/python3.5/site-packages/tensorflow/python/client/session.py\u001b[0m in \u001b[0;36m_do_call\u001b[0;34m(self, fn, *args)\u001b[0m\n\u001b[1;32m   1019\u001b[0m   \u001b[0;32mdef\u001b[0m \u001b[0m_do_call\u001b[0m\u001b[0;34m(\u001b[0m\u001b[0mself\u001b[0m\u001b[0;34m,\u001b[0m \u001b[0mfn\u001b[0m\u001b[0;34m,\u001b[0m \u001b[0;34m*\u001b[0m\u001b[0margs\u001b[0m\u001b[0;34m)\u001b[0m\u001b[0;34m:\u001b[0m\u001b[0;34m\u001b[0m\u001b[0m\n\u001b[1;32m   1020\u001b[0m     \u001b[0;32mtry\u001b[0m\u001b[0;34m:\u001b[0m\u001b[0;34m\u001b[0m\u001b[0m\n\u001b[0;32m-> 1021\u001b[0;31m       \u001b[0;32mreturn\u001b[0m \u001b[0mfn\u001b[0m\u001b[0;34m(\u001b[0m\u001b[0;34m*\u001b[0m\u001b[0margs\u001b[0m\u001b[0;34m)\u001b[0m\u001b[0;34m\u001b[0m\u001b[0m\n\u001b[0m\u001b[1;32m   1022\u001b[0m     \u001b[0;32mexcept\u001b[0m \u001b[0merrors\u001b[0m\u001b[0;34m.\u001b[0m\u001b[0mOpError\u001b[0m \u001b[0;32mas\u001b[0m \u001b[0me\u001b[0m\u001b[0;34m:\u001b[0m\u001b[0;34m\u001b[0m\u001b[0m\n\u001b[1;32m   1023\u001b[0m       \u001b[0mmessage\u001b[0m \u001b[0;34m=\u001b[0m \u001b[0mcompat\u001b[0m\u001b[0;34m.\u001b[0m\u001b[0mas_text\u001b[0m\u001b[0;34m(\u001b[0m\u001b[0me\u001b[0m\u001b[0;34m.\u001b[0m\u001b[0mmessage\u001b[0m\u001b[0;34m)\u001b[0m\u001b[0;34m\u001b[0m\u001b[0m\n",
      "\u001b[0;32m/opt/conda/lib/python3.5/site-packages/tensorflow/python/client/session.py\u001b[0m in \u001b[0;36m_run_fn\u001b[0;34m(session, feed_dict, fetch_list, target_list, options, run_metadata)\u001b[0m\n\u001b[1;32m   1001\u001b[0m         return tf_session.TF_Run(session, options,\n\u001b[1;32m   1002\u001b[0m                                  \u001b[0mfeed_dict\u001b[0m\u001b[0;34m,\u001b[0m \u001b[0mfetch_list\u001b[0m\u001b[0;34m,\u001b[0m \u001b[0mtarget_list\u001b[0m\u001b[0;34m,\u001b[0m\u001b[0;34m\u001b[0m\u001b[0m\n\u001b[0;32m-> 1003\u001b[0;31m                                  status, run_metadata)\n\u001b[0m\u001b[1;32m   1004\u001b[0m \u001b[0;34m\u001b[0m\u001b[0m\n\u001b[1;32m   1005\u001b[0m     \u001b[0;32mdef\u001b[0m \u001b[0m_prun_fn\u001b[0m\u001b[0;34m(\u001b[0m\u001b[0msession\u001b[0m\u001b[0;34m,\u001b[0m \u001b[0mhandle\u001b[0m\u001b[0;34m,\u001b[0m \u001b[0mfeed_dict\u001b[0m\u001b[0;34m,\u001b[0m \u001b[0mfetch_list\u001b[0m\u001b[0;34m)\u001b[0m\u001b[0;34m:\u001b[0m\u001b[0;34m\u001b[0m\u001b[0m\n",
      "\u001b[0;31mKeyboardInterrupt\u001b[0m: "
     ]
    }
   ],
   "source": [
    "#model_file = \"lenet_drop_v2\"\n",
    "import os\n",
    "from imblearn.over_sampling import RandomOverSampler\n",
    "import os\n",
    "os.environ[\"CUDA_VISIBLE_DEVICES\"]=\"0\"\n",
    "\n",
    "model_file = \"./multi_multi_batch_norm_contrast_final_dropout_95_v2\"\n",
    "# model_file = \"./lenet_multi_batch_norm_final_v5\"\n",
    "with tf.Session() as sess:\n",
    "    sess.run(tf.initialize_all_variables())\n",
    "    num_examples =len(X_train)#392090\n",
    "    from pathlib import Path\n",
    "    \n",
    "\n",
    "    my_file = Path(model_file+\".meta\")\n",
    "    if my_file.is_file():\n",
    "        saver.restore(sess,model_file)\n",
    "        print(\"Model restored...\")\n",
    "    print(\"Training...\")\n",
    "    print()\n",
    "#     ros = RandomOverSampler()\n",
    "#     x_index = np.arange(0,len(y_train),1)\n",
    "#     x_index_resampled, y_resampled = ros.fit_sample(np.expand_dims(x_index,axis=1), y_train)\n",
    "#     x_in = np.squeeze(x_index_resampled)\n",
    "#     X_resampled = X_train[x_in,:,:,]\n",
    "#     X_train_1, y_train_1 = shuffle(X_resampled, y_resampled)\n",
    "    X_train_1 = X_train\n",
    "    y_train_1 = y_train\n",
    "    print(\"Total \"+str(len(y_train_1)))\n",
    "    for i in range(EPOCHS):\n",
    "\n",
    "        X_train, y_train = shuffle(X_train_1, y_train_1)\n",
    "        acc = []\n",
    "        ent = []\n",
    "        for offset in range(0, num_examples, BATCH_SIZE):\n",
    "            end = offset + BATCH_SIZE\n",
    "            \n",
    "            batch_x, batch_y = np.copy(X_train[offset:end]), np.copy(y_train[offset:end])\n",
    "            sess.run(training_operation, feed_dict={x: batch_x, y: batch_y,keep_prob:0.95})\n",
    "            training_accuracy = evaluate(batch_x, batch_y)\n",
    "            mean_cross_entropy = sess.run(loss_operation, feed_dict={x: batch_x, y: batch_y,keep_prob:1.0})\n",
    "            acc.append(training_accuracy)\n",
    "            ent.append(mean_cross_entropy)\n",
    "            \n",
    "        validation_accuracy = evaluate(X_validation, y_validation)\n",
    "        \n",
    "        print(\"EPOCH {} ...\".format(i+1))\n",
    "        print(\"Training Accuracy = {:.3f}\".format(np.mean(acc)))\n",
    "        print(\"Cross entropy = {:.4f}\".format(np.mean(ent)))\n",
    "        print(\"Validation Accuracy = {:.3f}\".format(validation_accuracy))\n",
    "        \n",
    "        if(i%10==0):\n",
    "            saver.save(sess, model_file)\n",
    "            print(\"Model saved\")\n",
    "        \n",
    "    saver.save(sess, model_file)\n",
    "    print(\"Model saved\")"
   ]
  },
  {
   "cell_type": "code",
   "execution_count": 17,
   "metadata": {
    "collapsed": false
   },
   "outputs": [
    {
     "name": "stdout",
     "output_type": "stream",
     "text": [
      "Collecting imblearn\n",
      "  Downloading imblearn-0.0-py2.py3-none-any.whl\n",
      "Collecting imbalanced-learn (from imblearn)\n",
      "  Downloading imbalanced-learn-0.2.1.tar.gz (90kB)\n",
      "\u001b[K    100% |████████████████████████████████| 92kB 470kB/s ta 0:00:01\n",
      "\u001b[?25hRequirement already satisfied: scipy>=0.17.0 in /opt/conda/lib/python3.5/site-packages (from imbalanced-learn->imblearn)\n",
      "Requirement already satisfied: numpy>=1.10.4 in /opt/conda/lib/python3.5/site-packages (from imbalanced-learn->imblearn)\n",
      "Requirement already satisfied: scikit-learn>=0.17.1 in /opt/conda/lib/python3.5/site-packages (from imbalanced-learn->imblearn)\n",
      "Building wheels for collected packages: imbalanced-learn\n",
      "  Running setup.py bdist_wheel for imbalanced-learn ... \u001b[?25l-\b \b\\\b \bdone\n",
      "\u001b[?25h  Stored in directory: /root/.cache/pip/wheels/b8/20/bd/0b775f7e5d413ac72562b1a5126598bcb6e0eae10da659be9f\n",
      "Successfully built imbalanced-learn\n",
      "Installing collected packages: imbalanced-learn, imblearn\n",
      "Successfully installed imbalanced-learn-0.2.1 imblearn-0.0\n"
     ]
    }
   ],
   "source": [
    "#!pip install  imblearn"
   ]
  },
  {
   "cell_type": "code",
   "execution_count": null,
   "metadata": {
    "collapsed": false
   },
   "outputs": [],
   "source": [
    "# new_training_file = \"validation.p\"\n",
    "# new_train = {}\n",
    "# new_train['features'] = X_validation\n",
    "# new_train['labels'] = y_validation\n",
    "# pickle.dump( new_train, open( new_training_file, \"wb\" ) )\n",
    "with tf.Session() as sess:\n",
    "    sess.run(tf.initialize_all_variables())\n",
    "    num_examples =len(X_train)#392090\n",
    "    from pathlib import Path\n",
    "    \n",
    "\n",
    "    my_file = Path(model_file)\n",
    "    if my_file.is_file():\n",
    "        saver.restore(sess,model_file)\n",
    "        print(\"Model restored...\")\n",
    "    print(evaluate(X_test, y_test))"
   ]
  },
  {
   "cell_type": "markdown",
   "metadata": {},
   "source": [
    "### Question 1 \n",
    "\n",
    "_Describe how you preprocessed the data. Why did you choose that technique?_"
   ]
  },
  {
   "cell_type": "markdown",
   "metadata": {},
   "source": [
    "\n",
    "**Answer:**"
   ]
  },
  {
   "cell_type": "code",
   "execution_count": null,
   "metadata": {
    "collapsed": true
   },
   "outputs": [],
   "source": [
    "### Generate data additional data (OPTIONAL!)\n",
    "# With slight rotation only as flipping reverses the direction, so avoided some of the data preprocessing steps. \n",
    "# Contrast increase \n",
    "# \n",
    "### and split the data into training/validation/testing sets here.\n",
    "### Feel free to use as many code cells as needed."
   ]
  },
  {
   "cell_type": "markdown",
   "metadata": {},
   "source": [
    "### Question 2\n",
    "\n",
    "_Describe how you set up the training, validation and testing data for your model. **Optional**: If you generated additional data, how did you generate the data? Why did you generate the data? What are the differences in the new dataset (with generated data) from the original dataset?_"
   ]
  },
  {
   "cell_type": "markdown",
   "metadata": {},
   "source": [
    "**Answer:**"
   ]
  },
  {
   "cell_type": "code",
   "execution_count": null,
   "metadata": {
    "collapsed": true
   },
   "outputs": [],
   "source": [
    "### Define your architecture here.\n",
    "### Feel free to use as many code cells as needed."
   ]
  },
  {
   "cell_type": "markdown",
   "metadata": {},
   "source": [
    "### Question 3\n",
    "\n",
    "_What does your final architecture look like? (Type of model, layers, sizes, connectivity, etc.)  For reference on how to build a deep neural network using TensorFlow, see [Deep Neural Network in TensorFlow\n",
    "](https://classroom.udacity.com/nanodegrees/nd013/parts/fbf77062-5703-404e-b60c-95b78b2f3f9e/modules/6df7ae49-c61c-4bb2-a23e-6527e69209ec/lessons/b516a270-8600-4f93-a0a3-20dfeabe5da6/concepts/83a3a2a2-a9bd-4b7b-95b0-eb924ab14432) from the classroom._\n"
   ]
  },
  {
   "cell_type": "markdown",
   "metadata": {},
   "source": [
    "**Answer:**"
   ]
  },
  {
   "cell_type": "code",
   "execution_count": null,
   "metadata": {
    "collapsed": true
   },
   "outputs": [],
   "source": [
    "### Train your model here.\n",
    "### Feel free to use as many code cells as needed.\n",
    "\n",
    "# Architecture diagram + Tensorflow graph."
   ]
  },
  {
   "cell_type": "markdown",
   "metadata": {},
   "source": [
    "### Question 4\n",
    "\n",
    "_How did you train your model? (Type of optimizer, batch size, epochs, hyperparameters, etc.)_\n"
   ]
  },
  {
   "cell_type": "markdown",
   "metadata": {},
   "source": [
    "**Answer:**"
   ]
  },
  {
   "cell_type": "markdown",
   "metadata": {},
   "source": [
    "### Question 5\n",
    "\n",
    "\n",
    "_What approach did you take in coming up with a solution to this problem? It may have been a process of trial and error, in which case, outline the steps you took to get to the final solution and why you chose those steps. Perhaps your solution involved an already well known implementation or architecture. In this case, discuss why you think this is suitable for the current problem._"
   ]
  },
  {
   "cell_type": "markdown",
   "metadata": {},
   "source": [
    "**Answer:**\n",
    "Things tried \n",
    "1. Augment Data with -5 degree to 5 degree purterbation \n",
    "2. Gray scale (Image convert)\n",
    "3. Image Normalization \n",
    "4. LeNet Architecture \n",
    "5. Adding the drop out layer for the fully connected piece \n",
    "6. Simpler model for Gray scale ( 94 % validation ). Removing the one layer of fully connected.\n",
    "\n",
    "Things to try \n",
    "1. HSV/V value only \n",
    "2. Zoom in Zoom out perturbation to data.\n",
    "3. Multiple Conv layer before Pooling layer.\n",
    "4. Regularizer/ Gradient clipping.\n",
    "5. Batch Normalization"
   ]
  },
  {
   "cell_type": "markdown",
   "metadata": {},
   "source": [
    "---\n",
    "\n",
    "## Step 3: Test a Model on New Images\n",
    "\n",
    "Take several pictures of traffic signs that you find on the web or around you (at least five), and run them through your classifier on your computer to produce example results. The classifier might not recognize some local signs but it could prove interesting nonetheless.\n",
    "\n",
    "You may find `signnames.csv` useful as it contains mappings from the class id (integer) to the actual sign name."
   ]
  },
  {
   "cell_type": "markdown",
   "metadata": {},
   "source": [
    "### Implementation\n",
    "\n",
    "Use the code cell (or multiple code cells, if necessary) to implement the first step of your project. Once you have completed your implementation and are satisfied with the results, be sure to thoroughly answer the questions that follow."
   ]
  },
  {
   "cell_type": "code",
   "execution_count": null,
   "metadata": {
    "collapsed": true
   },
   "outputs": [],
   "source": [
    "### Load the images and plot them here.\n",
    "### Feel free to use as many code cells as needed."
   ]
  },
  {
   "cell_type": "markdown",
   "metadata": {},
   "source": [
    "### Question 6\n",
    "\n",
    "_Choose five candidate images of traffic signs and provide them in the report. Are there any particular qualities of the image(s) that might make classification difficult? It could be helpful to plot the images in the notebook._\n",
    "\n"
   ]
  },
  {
   "cell_type": "markdown",
   "metadata": {},
   "source": [
    "**Answer:**"
   ]
  },
  {
   "cell_type": "code",
   "execution_count": null,
   "metadata": {
    "collapsed": true
   },
   "outputs": [],
   "source": [
    "### Run the predictions here.\n",
    "### Feel free to use as many code cells as needed."
   ]
  },
  {
   "cell_type": "markdown",
   "metadata": {},
   "source": [
    "### Question 7\n",
    "\n",
    "_Is your model able to perform equally well on captured pictures when compared to testing on the dataset? The simplest way to do this check the accuracy of the predictions. For example, if the model predicted 1 out of 5 signs correctly, it's 20% accurate._\n",
    "\n",
    "_**NOTE:** You could check the accuracy manually by using `signnames.csv` (same directory). This file has a mapping from the class id (0-42) to the corresponding sign name. So, you could take the class id the model outputs, lookup the name in `signnames.csv` and see if it matches the sign from the image._\n"
   ]
  },
  {
   "cell_type": "markdown",
   "metadata": {},
   "source": [
    "**Answer:**"
   ]
  },
  {
   "cell_type": "code",
   "execution_count": null,
   "metadata": {
    "collapsed": true
   },
   "outputs": [],
   "source": [
    "### Visualize the softmax probabilities here.\n",
    "### Feel free to use as many code cells as needed."
   ]
  },
  {
   "cell_type": "markdown",
   "metadata": {},
   "source": [
    "### Question 8\n",
    "\n",
    "*Use the model's softmax probabilities to visualize the **certainty** of its predictions, [`tf.nn.top_k`](https://www.tensorflow.org/versions/r0.12/api_docs/python/nn.html#top_k) could prove helpful here. Which predictions is the model certain of? Uncertain? If the model was incorrect in its initial prediction, does the correct prediction appear in the top k? (k should be 5 at most)*\n",
    "\n",
    "`tf.nn.top_k` will return the values and indices (class ids) of the top k predictions. So if k=3, for each sign, it'll return the 3 largest probabilities (out of a possible 43) and the correspoding class ids.\n",
    "\n",
    "Take this numpy array as an example:\n",
    "\n",
    "```\n",
    "# (5, 6) array\n",
    "a = np.array([[ 0.24879643,  0.07032244,  0.12641572,  0.34763842,  0.07893497,\n",
    "         0.12789202],\n",
    "       [ 0.28086119,  0.27569815,  0.08594638,  0.0178669 ,  0.18063401,\n",
    "         0.15899337],\n",
    "       [ 0.26076848,  0.23664738,  0.08020603,  0.07001922,  0.1134371 ,\n",
    "         0.23892179],\n",
    "       [ 0.11943333,  0.29198961,  0.02605103,  0.26234032,  0.1351348 ,\n",
    "         0.16505091],\n",
    "       [ 0.09561176,  0.34396535,  0.0643941 ,  0.16240774,  0.24206137,\n",
    "         0.09155967]])\n",
    "```\n",
    "\n",
    "Running it through `sess.run(tf.nn.top_k(tf.constant(a), k=3))` produces:\n",
    "\n",
    "```\n",
    "TopKV2(values=array([[ 0.34763842,  0.24879643,  0.12789202],\n",
    "       [ 0.28086119,  0.27569815,  0.18063401],\n",
    "       [ 0.26076848,  0.23892179,  0.23664738],\n",
    "       [ 0.29198961,  0.26234032,  0.16505091],\n",
    "       [ 0.34396535,  0.24206137,  0.16240774]]), indices=array([[3, 0, 5],\n",
    "       [0, 1, 4],\n",
    "       [0, 5, 1],\n",
    "       [1, 3, 5],\n",
    "       [1, 4, 3]], dtype=int32))\n",
    "```\n",
    "\n",
    "Looking just at the first row we get `[ 0.34763842,  0.24879643,  0.12789202]`, you can confirm these are the 3 largest probabilities in `a`. You'll also notice `[3, 0, 5]` are the corresponding indices."
   ]
  },
  {
   "cell_type": "markdown",
   "metadata": {},
   "source": [
    "**Answer:**"
   ]
  },
  {
   "cell_type": "markdown",
   "metadata": {},
   "source": [
    "> **Note**: Once you have completed all of the code implementations and successfully answered each question above, you may finalize your work by exporting the iPython Notebook as an HTML document. You can do this by using the menu above and navigating to  \\n\",\n",
    "    \"**File -> Download as -> HTML (.html)**. Include the finished document along with this notebook as your submission."
   ]
  },
  {
   "cell_type": "code",
   "execution_count": null,
   "metadata": {
    "collapsed": false
   },
   "outputs": [],
   "source": []
  },
  {
   "cell_type": "code",
   "execution_count": null,
   "metadata": {
    "collapsed": true
   },
   "outputs": [],
   "source": []
  }
 ],
 "metadata": {
  "anaconda-cloud": {},
  "kernelspec": {
   "display_name": "Python [conda root]",
   "language": "python",
   "name": "conda-root-py"
  },
  "language_info": {
   "codemirror_mode": {
    "name": "ipython",
    "version": 3
   },
   "file_extension": ".py",
   "mimetype": "text/x-python",
   "name": "python",
   "nbconvert_exporter": "python",
   "pygments_lexer": "ipython3",
   "version": "3.5.2"
  }
 },
 "nbformat": 4,
 "nbformat_minor": 1
}
