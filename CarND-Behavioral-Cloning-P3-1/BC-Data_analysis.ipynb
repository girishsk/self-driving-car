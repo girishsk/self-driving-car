{
 "cells": [
  {
   "cell_type": "code",
   "execution_count": null,
   "metadata": {
    "collapsed": false
   },
   "outputs": [],
   "source": [
    "import pandas as pd \n",
    "logs = pd.read_csv(\"data/driving_log.csv\")"
   ]
  },
  {
   "cell_type": "code",
   "execution_count": null,
   "metadata": {
    "collapsed": false
   },
   "outputs": [],
   "source": [
    "import matplotlib.pyplot as plt\n",
    "%matplotlib inline\n",
    "import numpy as np\n",
    "import seaborn as sns \n",
    "sns.set_style(\"white\")\n",
    "r = [1/(e+0.1) for e in logs.steering]\n",
    "sns.distplot(r,kde=False)#,bins=np.linspace(-100.0,100.0,50))"
   ]
  },
  {
   "cell_type": "code",
   "execution_count": null,
   "metadata": {
    "collapsed": false
   },
   "outputs": [],
   "source": [
    "logs.describe()"
   ]
  },
  {
   "cell_type": "code",
   "execution_count": null,
   "metadata": {
    "collapsed": false
   },
   "outputs": [],
   "source": [
    "from PIL import Image"
   ]
  },
  {
   "cell_type": "code",
   "execution_count": null,
   "metadata": {
    "collapsed": false
   },
   "outputs": [],
   "source": [
    "Image.open(\"data/IMG/center_2016_12_01_13_43_21_799.jpg\")"
   ]
  },
  {
   "cell_type": "code",
   "execution_count": null,
   "metadata": {
    "collapsed": false
   },
   "outputs": [],
   "source": [
    "im = Image.open(\"data/IMG/center_2016_12_01_13_43_21_799.jpg\").transpose(Image.FLIP_LEFT_RIGHT)"
   ]
  },
  {
   "cell_type": "code",
   "execution_count": null,
   "metadata": {
    "collapsed": false
   },
   "outputs": [],
   "source": [
    "im.thumbnail((160,320), Image.ANTIALIAS)"
   ]
  },
  {
   "cell_type": "code",
   "execution_count": null,
   "metadata": {
    "collapsed": false
   },
   "outputs": [],
   "source": [
    "import numpy as np\n",
    "print(np.shape(im))"
   ]
  },
  {
   "cell_type": "code",
   "execution_count": null,
   "metadata": {
    "collapsed": false
   },
   "outputs": [],
   "source": [
    "plt.imshow(im)"
   ]
  },
  {
   "cell_type": "markdown",
   "metadata": {},
   "source": [
    "### Data Augmentation\n",
    "1. Flip the images right to left and left to right and negate the steering angles\n",
    "2. Left camera image angle + (angle delta(0.3))\n",
    "3. Right camera image angle - (angle delta (0.3))\n",
    "4. \n"
   ]
  },
  {
   "cell_type": "code",
   "execution_count": null,
   "metadata": {
    "collapsed": false
   },
   "outputs": [],
   "source": []
  },
  {
   "cell_type": "code",
   "execution_count": null,
   "metadata": {
    "collapsed": false
   },
   "outputs": [],
   "source": [
    "X_train = []\n",
    "y_train = []\n",
    "for d,s in zip(logs.center,logs.steering):\n",
    "    im = Image.open(\"./data/\"+d)\n",
    "    X_train.append(np.array(im))\n",
    "    y_train.append(s)\n",
    "    \n",
    "    "
   ]
  },
  {
   "cell_type": "code",
   "execution_count": null,
   "metadata": {
    "collapsed": false
   },
   "outputs": [],
   "source": [
    "augmented_data = []\n",
    "augmented_steer = []\n",
    "for d,s in zip(logs.center,logs.steering):\n",
    "    if(s != 0.0):\n",
    "        im = Image.open(\"./data/\"+d)\n",
    "        #im.thumbnail((160,320), Image.ANTIALIAS)\n",
    "        augmented_data.append(np.array(im.transpose(Image.FLIP_LEFT_RIGHT)))\n",
    "        augmented_steer.append(s*-1.0)\n",
    "    augmented_data.append(np.array(im))\n",
    "    augmented_steer.append(s)\n",
    "correction_factor = 0.2\n",
    "for d,s in zip(logs.left,logs.steering):\n",
    "    s = s +correction_factor\n",
    "    \n",
    "    im = Image.open(\"./data/\"+d.strip())\n",
    "    #im.thumbnail((160,320), Image.ANTIALIAS)\n",
    "    augmented_data.append(np.array(im.transpose(Image.FLIP_LEFT_RIGHT)))\n",
    "    augmented_steer.append(s*-1.0)\n",
    "    augmented_data.append(np.array(im))\n",
    "    augmented_steer.append(s)\n",
    "for d,s in zip(logs.right,logs.steering):\n",
    "    s = s -correction_factor\n",
    "    \n",
    "    im = Image.open(\"./data/\"+d.strip())\n",
    "    #im.thumbnail((160,320), Image.ANTIALIAS)\n",
    "    augmented_data.append(np.array(im.transpose(Image.FLIP_LEFT_RIGHT)))\n",
    "    augmented_steer.append(s*-1.0)\n",
    "    augmented_data.append(np.array(im))\n",
    "    augmented_steer.append(s)"
   ]
  },
  {
   "cell_type": "code",
   "execution_count": null,
   "metadata": {
    "collapsed": false
   },
   "outputs": [],
   "source": [
    "X_train = np.asarray(augmented_data)\n",
    "y_train = np.asarray(augmented_steer)"
   ]
  },
  {
   "cell_type": "code",
   "execution_count": null,
   "metadata": {
    "collapsed": false
   },
   "outputs": [],
   "source": [
    "np.shape(X_train)"
   ]
  },
  {
   "cell_type": "code",
   "execution_count": null,
   "metadata": {
    "collapsed": false
   },
   "outputs": [],
   "source": [
    "from keras.models import Sequential\n",
    "from keras.layers.core import Dense, Activation, Flatten\n",
    "\n",
    "\n",
    "from keras.layers.core import Dense, Activation, Flatten\n",
    "from keras.layers.convolutional import Convolution2D\n",
    "from keras.layers.pooling import MaxPooling2D\n",
    "\n",
    "model = Sequential()\n",
    "model.add(Convolution2D(32,3,3,input_shape=(160,320,3)))\n",
    "model.add(MaxPooling2D(pool_size=(2, 2)))\n",
    "model.add(Activation('relu'))\n",
    "model.add(Convolution2D(64,3,3))\n",
    "model.add(MaxPooling2D(pool_size=(2, 2)))\n",
    "model.add(Activation('relu'))\n",
    "model.add(Flatten())\n",
    "model.add(Dense(128))\n",
    "model.add(Activation('relu'))\n",
    "model.add(Dense(1))\n",
    "model.compile(optimizer='adam',loss='mse')"
   ]
  },
  {
   "cell_type": "code",
   "execution_count": null,
   "metadata": {
    "collapsed": false
   },
   "outputs": [],
   "source": [
    "model.fit(X_train,y_train,batch_size=512,validation_split=0.2,nb_epoch=5)"
   ]
  },
  {
   "cell_type": "code",
   "execution_count": null,
   "metadata": {
    "collapsed": false
   },
   "outputs": [],
   "source": [
    "model.save(\"model.h5\")"
   ]
  },
  {
   "cell_type": "code",
   "execution_count": null,
   "metadata": {
    "collapsed": false
   },
   "outputs": [],
   "source": []
  },
  {
   "cell_type": "code",
   "execution_count": null,
   "metadata": {
    "collapsed": false
   },
   "outputs": [],
   "source": [
    "sns.distplot(augmented_steer,kde=False)#,bins=np.linspace(-100.0,100.0,50))"
   ]
  },
  {
   "cell_type": "code",
   "execution_count": null,
   "metadata": {
    "collapsed": true
   },
   "outputs": [],
   "source": []
  }
 ],
 "metadata": {
  "anaconda-cloud": {},
  "kernelspec": {
   "display_name": "Python [conda env:CarND-TensorFlow-Lab]",
   "language": "python",
   "name": "conda-env-CarND-TensorFlow-Lab-py"
  },
  "language_info": {
   "codemirror_mode": {
    "name": "ipython",
    "version": 3
   },
   "file_extension": ".py",
   "mimetype": "text/x-python",
   "name": "python",
   "nbconvert_exporter": "python",
   "pygments_lexer": "ipython3",
   "version": "3.5.2"
  }
 },
 "nbformat": 4,
 "nbformat_minor": 1
}
